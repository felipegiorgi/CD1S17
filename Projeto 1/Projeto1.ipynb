{
 "cells": [
  {
   "cell_type": "markdown",
   "metadata": {},
   "source": [
    "___\n",
    "# PROJETO 1"
   ]
  },
  {
   "cell_type": "markdown",
   "metadata": {},
   "source": [
    "## Felipe Giorgi Vaz Guimarães\n",
    "___"
   ]
  },
  {
   "cell_type": "markdown",
   "metadata": {},
   "source": [
    "## Diferença  da qualidade de vida nos domicílios do Nordeste entre 2009 e 2015"
   ]
  },
  {
   "cell_type": "markdown",
   "metadata": {},
   "source": [
    "___\n",
    "## Introdução\n",
    "\n",
    "\n",
    "O primeiro projeto da DP de Ciencias dos Dados direciona o aluno a comparar um grupo de domicílios entre dois anos da PNAD. Isso permite ao aluno trabalhar com uma alta variedade de assuntos, tendo em vista a diversidade de informações prensentes nos bancos de dados. Eu escolhi trabalhar com as diferenças socioeconomicas do Nordeste entre os anos de 2009 e 2015.\n",
    "\n",
    "Durante as aulas de história no Ensimo Médio, eu aprendi que o Nordeste demorou mais para se desenvoler economicamente do que os demais estados do Brasil. A partir disso, eu resolvi estudar se o estado do Nordeste evolui entre os anos 2009 e 2015. A pesquisa trará uma serie de tabelas e gráficos que mostrem as evoluções que ocorreram."
   ]
  },
  {
   "cell_type": "markdown",
   "metadata": {},
   "source": [
    "___\n",
    "## Análise e Resultados"
   ]
  },
  {
   "cell_type": "code",
   "execution_count": 380,
   "metadata": {
    "collapsed": true
   },
   "outputs": [],
   "source": [
    "%matplotlib inline\n",
    "import pandas as pd\n",
    "import matplotlib.pyplot as plt\n",
    "import numpy as np\n",
    "import os\n",
    "from numpy import arange"
   ]
  },
  {
   "cell_type": "code",
   "execution_count": 381,
   "metadata": {
    "collapsed": false
   },
   "outputs": [
    {
     "name": "stdout",
     "output_type": "stream",
     "text": [
      "Esperamos trabalhar no diretório\n",
      "C:\\Users\\Felipe Giorgi\\Desktop\\3° Semestre\\DP - Ciência dos Dados\\Projeto 1\n"
     ]
    }
   ],
   "source": [
    "print('Esperamos trabalhar no diretório')\n",
    "print(os.getcwd())"
   ]
  },
  {
   "cell_type": "code",
   "execution_count": 382,
   "metadata": {
    "collapsed": false
   },
   "outputs": [],
   "source": [
    "dados2015 = pd.read_csv('DOM2015.csv',sep=',')\n",
    "dados2009 = pd.read_csv('DOM2009.csv',sep=',')"
   ]
  },
  {
   "cell_type": "code",
   "execution_count": 383,
   "metadata": {
    "collapsed": true
   },
   "outputs": [],
   "source": [
    "#Exclui da coluna de V4621(Renda) os domicílios que tinham como renda NaN e aqueles que tinham como renda 999 999 999 999\n",
    "dados2015.V4621 = dados2015.V4621[(dados2015.V4621 != 999999999999) & (~dados2015.V4621.isnull())]"
   ]
  },
  {
   "cell_type": "code",
   "execution_count": 384,
   "metadata": {
    "collapsed": true
   },
   "outputs": [],
   "source": [
    "#Exclui da coluna de V4621(Renda) os domicílios que tinham como renda NaN e aqueles que tinham como renda 999 999 999 999\n",
    "dados2009.V4621 = dados2009.V4621[(dados2009.V4621 != 999999999999) & (~dados2009.V4621.isnull())]"
   ]
  },
  {
   "cell_type": "code",
   "execution_count": 385,
   "metadata": {
    "collapsed": false
   },
   "outputs": [
    {
     "data": {
      "text/html": [
       "<div>\n",
       "<table border=\"1\" class=\"dataframe\">\n",
       "  <thead>\n",
       "    <tr style=\"text-align: right;\">\n",
       "      <th></th>\n",
       "      <th>Unnamed: 0</th>\n",
       "      <th>V0101</th>\n",
       "      <th>UF</th>\n",
       "      <th>V0102</th>\n",
       "      <th>V0103</th>\n",
       "      <th>V0104</th>\n",
       "      <th>V0105</th>\n",
       "      <th>V0106</th>\n",
       "      <th>V0201</th>\n",
       "      <th>V0202</th>\n",
       "      <th>...</th>\n",
       "      <th>V4611</th>\n",
       "      <th>V4614</th>\n",
       "      <th>UPA</th>\n",
       "      <th>V4617</th>\n",
       "      <th>V4618</th>\n",
       "      <th>V4620</th>\n",
       "      <th>V4621</th>\n",
       "      <th>V4622</th>\n",
       "      <th>V4624</th>\n",
       "      <th>V9992</th>\n",
       "    </tr>\n",
       "  </thead>\n",
       "  <tbody>\n",
       "    <tr>\n",
       "      <th>0</th>\n",
       "      <td>0</td>\n",
       "      <td>2015</td>\n",
       "      <td>11</td>\n",
       "      <td>15</td>\n",
       "      <td>1</td>\n",
       "      <td>1</td>\n",
       "      <td>1</td>\n",
       "      <td>1</td>\n",
       "      <td>1</td>\n",
       "      <td>4</td>\n",
       "      <td>...</td>\n",
       "      <td>270</td>\n",
       "      <td>800</td>\n",
       "      <td>191</td>\n",
       "      <td>110001</td>\n",
       "      <td>1</td>\n",
       "      <td>1</td>\n",
       "      <td>800</td>\n",
       "      <td>4</td>\n",
       "      <td>1</td>\n",
       "      <td>20161104</td>\n",
       "    </tr>\n",
       "    <tr>\n",
       "      <th>1</th>\n",
       "      <td>1</td>\n",
       "      <td>2015</td>\n",
       "      <td>11</td>\n",
       "      <td>15</td>\n",
       "      <td>2</td>\n",
       "      <td>6</td>\n",
       "      <td>NaN</td>\n",
       "      <td>NaN</td>\n",
       "      <td>NaN</td>\n",
       "      <td>NaN</td>\n",
       "      <td>...</td>\n",
       "      <td>NaN</td>\n",
       "      <td>NaN</td>\n",
       "      <td>191</td>\n",
       "      <td>110001</td>\n",
       "      <td>1</td>\n",
       "      <td>NaN</td>\n",
       "      <td>NaN</td>\n",
       "      <td>NaN</td>\n",
       "      <td>NaN</td>\n",
       "      <td>20161104</td>\n",
       "    </tr>\n",
       "    <tr>\n",
       "      <th>2</th>\n",
       "      <td>2</td>\n",
       "      <td>2015</td>\n",
       "      <td>11</td>\n",
       "      <td>15</td>\n",
       "      <td>3</td>\n",
       "      <td>1</td>\n",
       "      <td>1</td>\n",
       "      <td>1</td>\n",
       "      <td>1</td>\n",
       "      <td>4</td>\n",
       "      <td>...</td>\n",
       "      <td>270</td>\n",
       "      <td>1150</td>\n",
       "      <td>191</td>\n",
       "      <td>110001</td>\n",
       "      <td>1</td>\n",
       "      <td>1</td>\n",
       "      <td>1150</td>\n",
       "      <td>4</td>\n",
       "      <td>1</td>\n",
       "      <td>20161104</td>\n",
       "    </tr>\n",
       "    <tr>\n",
       "      <th>3</th>\n",
       "      <td>3</td>\n",
       "      <td>2015</td>\n",
       "      <td>11</td>\n",
       "      <td>15</td>\n",
       "      <td>4</td>\n",
       "      <td>1</td>\n",
       "      <td>6</td>\n",
       "      <td>4</td>\n",
       "      <td>1</td>\n",
       "      <td>2</td>\n",
       "      <td>...</td>\n",
       "      <td>270</td>\n",
       "      <td>4760</td>\n",
       "      <td>191</td>\n",
       "      <td>110001</td>\n",
       "      <td>1</td>\n",
       "      <td>6</td>\n",
       "      <td>793</td>\n",
       "      <td>4</td>\n",
       "      <td>2</td>\n",
       "      <td>20161104</td>\n",
       "    </tr>\n",
       "    <tr>\n",
       "      <th>4</th>\n",
       "      <td>4</td>\n",
       "      <td>2015</td>\n",
       "      <td>11</td>\n",
       "      <td>15</td>\n",
       "      <td>5</td>\n",
       "      <td>1</td>\n",
       "      <td>2</td>\n",
       "      <td>2</td>\n",
       "      <td>1</td>\n",
       "      <td>2</td>\n",
       "      <td>...</td>\n",
       "      <td>271</td>\n",
       "      <td>5800</td>\n",
       "      <td>191</td>\n",
       "      <td>110001</td>\n",
       "      <td>1</td>\n",
       "      <td>2</td>\n",
       "      <td>2900</td>\n",
       "      <td>6</td>\n",
       "      <td>2</td>\n",
       "      <td>20161104</td>\n",
       "    </tr>\n",
       "  </tbody>\n",
       "</table>\n",
       "<p>5 rows × 81 columns</p>\n",
       "</div>"
      ],
      "text/plain": [
       "   Unnamed: 0  V0101  UF  V0102  V0103  V0104  V0105  V0106  V0201  V0202  \\\n",
       "0           0   2015  11     15      1      1      1      1      1      4   \n",
       "1           1   2015  11     15      2      6    NaN    NaN    NaN    NaN   \n",
       "2           2   2015  11     15      3      1      1      1      1      4   \n",
       "3           3   2015  11     15      4      1      6      4      1      2   \n",
       "4           4   2015  11     15      5      1      2      2      1      2   \n",
       "\n",
       "     ...     V4611  V4614  UPA   V4617  V4618  V4620  V4621  V4622  V4624  \\\n",
       "0    ...       270    800  191  110001      1      1    800      4      1   \n",
       "1    ...       NaN    NaN  191  110001      1    NaN    NaN    NaN    NaN   \n",
       "2    ...       270   1150  191  110001      1      1   1150      4      1   \n",
       "3    ...       270   4760  191  110001      1      6    793      4      2   \n",
       "4    ...       271   5800  191  110001      1      2   2900      6      2   \n",
       "\n",
       "      V9992  \n",
       "0  20161104  \n",
       "1  20161104  \n",
       "2  20161104  \n",
       "3  20161104  \n",
       "4  20161104  \n",
       "\n",
       "[5 rows x 81 columns]"
      ]
     },
     "execution_count": 385,
     "metadata": {},
     "output_type": "execute_result"
    }
   ],
   "source": [
    "dados2015.head()"
   ]
  },
  {
   "cell_type": "code",
   "execution_count": 386,
   "metadata": {
    "collapsed": false
   },
   "outputs": [
    {
     "data": {
      "text/html": [
       "<div>\n",
       "<table border=\"1\" class=\"dataframe\">\n",
       "  <thead>\n",
       "    <tr style=\"text-align: right;\">\n",
       "      <th></th>\n",
       "      <th>Unnamed: 0</th>\n",
       "      <th>V0101</th>\n",
       "      <th>UF</th>\n",
       "      <th>V0102</th>\n",
       "      <th>V0103</th>\n",
       "      <th>V0104</th>\n",
       "      <th>V0105</th>\n",
       "      <th>V0106</th>\n",
       "      <th>V0201</th>\n",
       "      <th>V0202</th>\n",
       "      <th>...</th>\n",
       "      <th>V2136</th>\n",
       "      <th>V2033</th>\n",
       "      <th>V2034</th>\n",
       "      <th>V2035</th>\n",
       "      <th>V2036</th>\n",
       "      <th>V2037</th>\n",
       "      <th>V2038</th>\n",
       "      <th>V2039</th>\n",
       "      <th>V2041</th>\n",
       "      <th>V9992</th>\n",
       "    </tr>\n",
       "  </thead>\n",
       "  <tbody>\n",
       "    <tr>\n",
       "      <th>0</th>\n",
       "      <td>0</td>\n",
       "      <td>2009</td>\n",
       "      <td>11</td>\n",
       "      <td>15</td>\n",
       "      <td>1</td>\n",
       "      <td>8</td>\n",
       "      <td>NaN</td>\n",
       "      <td>NaN</td>\n",
       "      <td>NaN</td>\n",
       "      <td>NaN</td>\n",
       "      <td>...</td>\n",
       "      <td>NaN</td>\n",
       "      <td>NaN</td>\n",
       "      <td>NaN</td>\n",
       "      <td>NaN</td>\n",
       "      <td>NaN</td>\n",
       "      <td>NaN</td>\n",
       "      <td>NaN</td>\n",
       "      <td>NaN</td>\n",
       "      <td>NaN</td>\n",
       "      <td>20120710</td>\n",
       "    </tr>\n",
       "    <tr>\n",
       "      <th>1</th>\n",
       "      <td>1</td>\n",
       "      <td>2009</td>\n",
       "      <td>11</td>\n",
       "      <td>15</td>\n",
       "      <td>2</td>\n",
       "      <td>8</td>\n",
       "      <td>NaN</td>\n",
       "      <td>NaN</td>\n",
       "      <td>NaN</td>\n",
       "      <td>NaN</td>\n",
       "      <td>...</td>\n",
       "      <td>NaN</td>\n",
       "      <td>NaN</td>\n",
       "      <td>NaN</td>\n",
       "      <td>NaN</td>\n",
       "      <td>NaN</td>\n",
       "      <td>NaN</td>\n",
       "      <td>NaN</td>\n",
       "      <td>NaN</td>\n",
       "      <td>NaN</td>\n",
       "      <td>20120710</td>\n",
       "    </tr>\n",
       "    <tr>\n",
       "      <th>2</th>\n",
       "      <td>2</td>\n",
       "      <td>2009</td>\n",
       "      <td>11</td>\n",
       "      <td>15</td>\n",
       "      <td>3</td>\n",
       "      <td>1</td>\n",
       "      <td>7</td>\n",
       "      <td>5</td>\n",
       "      <td>1</td>\n",
       "      <td>2</td>\n",
       "      <td>...</td>\n",
       "      <td>2</td>\n",
       "      <td>3</td>\n",
       "      <td>3</td>\n",
       "      <td>3</td>\n",
       "      <td>3</td>\n",
       "      <td>3</td>\n",
       "      <td>3</td>\n",
       "      <td>3</td>\n",
       "      <td>1</td>\n",
       "      <td>20120710</td>\n",
       "    </tr>\n",
       "    <tr>\n",
       "      <th>3</th>\n",
       "      <td>3</td>\n",
       "      <td>2009</td>\n",
       "      <td>11</td>\n",
       "      <td>15</td>\n",
       "      <td>4</td>\n",
       "      <td>1</td>\n",
       "      <td>3</td>\n",
       "      <td>3</td>\n",
       "      <td>1</td>\n",
       "      <td>2</td>\n",
       "      <td>...</td>\n",
       "      <td>NaN</td>\n",
       "      <td>3</td>\n",
       "      <td>3</td>\n",
       "      <td>1</td>\n",
       "      <td>3</td>\n",
       "      <td>3</td>\n",
       "      <td>3</td>\n",
       "      <td>3</td>\n",
       "      <td>3</td>\n",
       "      <td>20120710</td>\n",
       "    </tr>\n",
       "    <tr>\n",
       "      <th>4</th>\n",
       "      <td>4</td>\n",
       "      <td>2009</td>\n",
       "      <td>11</td>\n",
       "      <td>15</td>\n",
       "      <td>5</td>\n",
       "      <td>1</td>\n",
       "      <td>1</td>\n",
       "      <td>1</td>\n",
       "      <td>1</td>\n",
       "      <td>2</td>\n",
       "      <td>...</td>\n",
       "      <td>NaN</td>\n",
       "      <td>3</td>\n",
       "      <td>3</td>\n",
       "      <td>3</td>\n",
       "      <td>1</td>\n",
       "      <td>3</td>\n",
       "      <td>3</td>\n",
       "      <td>3</td>\n",
       "      <td>3</td>\n",
       "      <td>20120710</td>\n",
       "    </tr>\n",
       "  </tbody>\n",
       "</table>\n",
       "<p>5 rows × 98 columns</p>\n",
       "</div>"
      ],
      "text/plain": [
       "   Unnamed: 0  V0101  UF  V0102  V0103  V0104  V0105  V0106  V0201  V0202  \\\n",
       "0           0   2009  11     15      1      8    NaN    NaN    NaN    NaN   \n",
       "1           1   2009  11     15      2      8    NaN    NaN    NaN    NaN   \n",
       "2           2   2009  11     15      3      1      7      5      1      2   \n",
       "3           3   2009  11     15      4      1      3      3      1      2   \n",
       "4           4   2009  11     15      5      1      1      1      1      2   \n",
       "\n",
       "     ...     V2136  V2033  V2034  V2035  V2036  V2037  V2038  V2039  V2041  \\\n",
       "0    ...       NaN    NaN    NaN    NaN    NaN    NaN    NaN    NaN    NaN   \n",
       "1    ...       NaN    NaN    NaN    NaN    NaN    NaN    NaN    NaN    NaN   \n",
       "2    ...         2      3      3      3      3      3      3      3      1   \n",
       "3    ...       NaN      3      3      1      3      3      3      3      3   \n",
       "4    ...       NaN      3      3      3      1      3      3      3      3   \n",
       "\n",
       "      V9992  \n",
       "0  20120710  \n",
       "1  20120710  \n",
       "2  20120710  \n",
       "3  20120710  \n",
       "4  20120710  \n",
       "\n",
       "[5 rows x 98 columns]"
      ]
     },
     "execution_count": 386,
     "metadata": {},
     "output_type": "execute_result"
    }
   ],
   "source": [
    "dados2009.head()"
   ]
  },
  {
   "cell_type": "code",
   "execution_count": 387,
   "metadata": {
    "collapsed": false
   },
   "outputs": [
    {
     "data": {
      "text/html": [
       "<div>\n",
       "<table border=\"1\" class=\"dataframe\">\n",
       "  <thead>\n",
       "    <tr style=\"text-align: right;\">\n",
       "      <th></th>\n",
       "      <th>Unnamed: 0</th>\n",
       "      <th>V0101</th>\n",
       "      <th>UF</th>\n",
       "      <th>V0102</th>\n",
       "      <th>V0103</th>\n",
       "      <th>V0104</th>\n",
       "      <th>V0105</th>\n",
       "      <th>V0106</th>\n",
       "      <th>V0201</th>\n",
       "      <th>V0202</th>\n",
       "      <th>...</th>\n",
       "      <th>V4611</th>\n",
       "      <th>V4614</th>\n",
       "      <th>UPA</th>\n",
       "      <th>V4617</th>\n",
       "      <th>V4618</th>\n",
       "      <th>V4620</th>\n",
       "      <th>V4621</th>\n",
       "      <th>V4622</th>\n",
       "      <th>V4624</th>\n",
       "      <th>V9992</th>\n",
       "    </tr>\n",
       "  </thead>\n",
       "  <tbody>\n",
       "    <tr>\n",
       "      <th>21442</th>\n",
       "      <td>21442</td>\n",
       "      <td>2015</td>\n",
       "      <td>21</td>\n",
       "      <td>18</td>\n",
       "      <td>1</td>\n",
       "      <td>1</td>\n",
       "      <td>1</td>\n",
       "      <td>1</td>\n",
       "      <td>1</td>\n",
       "      <td>2</td>\n",
       "      <td>...</td>\n",
       "      <td>752</td>\n",
       "      <td>1576</td>\n",
       "      <td>527</td>\n",
       "      <td>210019</td>\n",
       "      <td>82</td>\n",
       "      <td>1</td>\n",
       "      <td>1576</td>\n",
       "      <td>4</td>\n",
       "      <td>1</td>\n",
       "      <td>20161104</td>\n",
       "    </tr>\n",
       "    <tr>\n",
       "      <th>21443</th>\n",
       "      <td>21443</td>\n",
       "      <td>2015</td>\n",
       "      <td>21</td>\n",
       "      <td>18</td>\n",
       "      <td>2</td>\n",
       "      <td>1</td>\n",
       "      <td>2</td>\n",
       "      <td>2</td>\n",
       "      <td>1</td>\n",
       "      <td>2</td>\n",
       "      <td>...</td>\n",
       "      <td>752</td>\n",
       "      <td>788</td>\n",
       "      <td>527</td>\n",
       "      <td>210019</td>\n",
       "      <td>82</td>\n",
       "      <td>2</td>\n",
       "      <td>394</td>\n",
       "      <td>2</td>\n",
       "      <td>4</td>\n",
       "      <td>20161104</td>\n",
       "    </tr>\n",
       "    <tr>\n",
       "      <th>21444</th>\n",
       "      <td>21444</td>\n",
       "      <td>2015</td>\n",
       "      <td>21</td>\n",
       "      <td>18</td>\n",
       "      <td>3</td>\n",
       "      <td>1</td>\n",
       "      <td>5</td>\n",
       "      <td>3</td>\n",
       "      <td>1</td>\n",
       "      <td>2</td>\n",
       "      <td>...</td>\n",
       "      <td>751</td>\n",
       "      <td>2182</td>\n",
       "      <td>527</td>\n",
       "      <td>210019</td>\n",
       "      <td>82</td>\n",
       "      <td>5</td>\n",
       "      <td>436</td>\n",
       "      <td>3</td>\n",
       "      <td>2</td>\n",
       "      <td>20161104</td>\n",
       "    </tr>\n",
       "    <tr>\n",
       "      <th>21445</th>\n",
       "      <td>21445</td>\n",
       "      <td>2015</td>\n",
       "      <td>21</td>\n",
       "      <td>18</td>\n",
       "      <td>4</td>\n",
       "      <td>6</td>\n",
       "      <td>NaN</td>\n",
       "      <td>NaN</td>\n",
       "      <td>NaN</td>\n",
       "      <td>NaN</td>\n",
       "      <td>...</td>\n",
       "      <td>NaN</td>\n",
       "      <td>NaN</td>\n",
       "      <td>527</td>\n",
       "      <td>210019</td>\n",
       "      <td>82</td>\n",
       "      <td>NaN</td>\n",
       "      <td>NaN</td>\n",
       "      <td>NaN</td>\n",
       "      <td>NaN</td>\n",
       "      <td>20161104</td>\n",
       "    </tr>\n",
       "    <tr>\n",
       "      <th>21446</th>\n",
       "      <td>21446</td>\n",
       "      <td>2015</td>\n",
       "      <td>21</td>\n",
       "      <td>18</td>\n",
       "      <td>5</td>\n",
       "      <td>6</td>\n",
       "      <td>NaN</td>\n",
       "      <td>NaN</td>\n",
       "      <td>NaN</td>\n",
       "      <td>NaN</td>\n",
       "      <td>...</td>\n",
       "      <td>NaN</td>\n",
       "      <td>NaN</td>\n",
       "      <td>527</td>\n",
       "      <td>210019</td>\n",
       "      <td>82</td>\n",
       "      <td>NaN</td>\n",
       "      <td>NaN</td>\n",
       "      <td>NaN</td>\n",
       "      <td>NaN</td>\n",
       "      <td>20161104</td>\n",
       "    </tr>\n",
       "  </tbody>\n",
       "</table>\n",
       "<p>5 rows × 81 columns</p>\n",
       "</div>"
      ],
      "text/plain": [
       "       Unnamed: 0  V0101  UF  V0102  V0103  V0104  V0105  V0106  V0201  V0202  \\\n",
       "21442       21442   2015  21     18      1      1      1      1      1      2   \n",
       "21443       21443   2015  21     18      2      1      2      2      1      2   \n",
       "21444       21444   2015  21     18      3      1      5      3      1      2   \n",
       "21445       21445   2015  21     18      4      6    NaN    NaN    NaN    NaN   \n",
       "21446       21446   2015  21     18      5      6    NaN    NaN    NaN    NaN   \n",
       "\n",
       "         ...     V4611  V4614  UPA   V4617  V4618  V4620  V4621  V4622  V4624  \\\n",
       "21442    ...       752   1576  527  210019     82      1   1576      4      1   \n",
       "21443    ...       752    788  527  210019     82      2    394      2      4   \n",
       "21444    ...       751   2182  527  210019     82      5    436      3      2   \n",
       "21445    ...       NaN    NaN  527  210019     82    NaN    NaN    NaN    NaN   \n",
       "21446    ...       NaN    NaN  527  210019     82    NaN    NaN    NaN    NaN   \n",
       "\n",
       "          V9992  \n",
       "21442  20161104  \n",
       "21443  20161104  \n",
       "21444  20161104  \n",
       "21445  20161104  \n",
       "21446  20161104  \n",
       "\n",
       "[5 rows x 81 columns]"
      ]
     },
     "execution_count": 387,
     "metadata": {},
     "output_type": "execute_result"
    }
   ],
   "source": [
    "#Separei apenas os estados do Nordeste no PNAD de 2015\n",
    "Nordeste2015 = dados2015[(dados2015.UF > 20) & (dados2015.UF < 30)]\n",
    "Nordeste2015.head()"
   ]
  },
  {
   "cell_type": "code",
   "execution_count": 388,
   "metadata": {
    "collapsed": true
   },
   "outputs": [],
   "source": [
    "#n15 indica o número de domicilíos pesquisados em 2015\n",
    "n15 = Nordeste2015.shape[0]"
   ]
  },
  {
   "cell_type": "code",
   "execution_count": 389,
   "metadata": {
    "collapsed": false
   },
   "outputs": [
    {
     "name": "stderr",
     "output_type": "stream",
     "text": [
      "C:\\Users\\Felipe Giorgi\\Anaconda3\\lib\\site-packages\\pandas\\core\\generic.py:2387: SettingWithCopyWarning: \n",
      "A value is trying to be set on a copy of a slice from a DataFrame.\n",
      "Try using .loc[row_indexer,col_indexer] = value instead\n",
      "\n",
      "See the caveats in the documentation: http://pandas.pydata.org/pandas-docs/stable/indexing.html#indexing-view-versus-copy\n",
      "  self[name] = value\n"
     ]
    }
   ],
   "source": [
    "#Mostrei que a categoria V0211 é qualitativa e alterei o nome de suas variáveis\n",
    "Nordeste2015.V0211 = Nordeste2015.V0211.astype('category')\n",
    "Nordeste2015.V0211.cat.categories = ('Sim', 'Não')"
   ]
  },
  {
   "cell_type": "code",
   "execution_count": 390,
   "metadata": {
    "collapsed": false
   },
   "outputs": [
    {
     "name": "stderr",
     "output_type": "stream",
     "text": [
      "C:\\Users\\Felipe Giorgi\\Anaconda3\\lib\\site-packages\\pandas\\core\\generic.py:2387: SettingWithCopyWarning: \n",
      "A value is trying to be set on a copy of a slice from a DataFrame.\n",
      "Try using .loc[row_indexer,col_indexer] = value instead\n",
      "\n",
      "See the caveats in the documentation: http://pandas.pydata.org/pandas-docs/stable/indexing.html#indexing-view-versus-copy\n",
      "  self[name] = value\n"
     ]
    }
   ],
   "source": [
    "#Mostrei que a categoria V0212 é qualitativa e alterei o nome de suas variáveis\n",
    "Nordeste2015.V0212 = Nordeste2015.V0212.astype('category')\n",
    "Nordeste2015.V0212.cat.categories = ('Rede geral de distribuição', 'Poço ou nascente','Outra proveniência')"
   ]
  },
  {
   "cell_type": "code",
   "execution_count": 391,
   "metadata": {
    "collapsed": false
   },
   "outputs": [
    {
     "name": "stderr",
     "output_type": "stream",
     "text": [
      "C:\\Users\\Felipe Giorgi\\Anaconda3\\lib\\site-packages\\pandas\\core\\generic.py:2387: SettingWithCopyWarning: \n",
      "A value is trying to be set on a copy of a slice from a DataFrame.\n",
      "Try using .loc[row_indexer,col_indexer] = value instead\n",
      "\n",
      "See the caveats in the documentation: http://pandas.pydata.org/pandas-docs/stable/indexing.html#indexing-view-versus-copy\n",
      "  self[name] = value\n"
     ]
    }
   ],
   "source": [
    "#Mostrei que a categoria V0217 é qualitativa e alterei o nome de suas variáveis\n",
    "Nordeste2015.V0217 = Nordeste2015.V0217.astype('category')\n",
    "Nordeste2015.V0217.cat.categories = ('Rede coletora de esgoto ou pluvial', 'Fossa séptica ligada a rede','Fossa séptica não ligada','Fossa rudimentar','Vala','Direto para o rio, lago ou mar','Outra forma')"
   ]
  },
  {
   "cell_type": "code",
   "execution_count": 392,
   "metadata": {
    "collapsed": false
   },
   "outputs": [
    {
     "name": "stderr",
     "output_type": "stream",
     "text": [
      "C:\\Users\\Felipe Giorgi\\Anaconda3\\lib\\site-packages\\pandas\\core\\generic.py:2387: SettingWithCopyWarning: \n",
      "A value is trying to be set on a copy of a slice from a DataFrame.\n",
      "Try using .loc[row_indexer,col_indexer] = value instead\n",
      "\n",
      "See the caveats in the documentation: http://pandas.pydata.org/pandas-docs/stable/indexing.html#indexing-view-versus-copy\n",
      "  self[name] = value\n"
     ]
    }
   ],
   "source": [
    "#Mostrei que a categoria V0218 é qualitativa e alterei o nome de suas variáveis\n",
    "Nordeste2015.V0218 = Nordeste2015.V0218.astype('category')\n",
    "Nordeste2015.V0218.cat.categories = ('Coletado diretamente', 'Coletado indiretamente','Queimado ou enterrado na propriedade','Jogado em terreno baldio ou logradouro','Jogado em rio, lago ou mar','Outra destino')"
   ]
  },
  {
   "cell_type": "code",
   "execution_count": 393,
   "metadata": {
    "collapsed": false
   },
   "outputs": [
    {
     "name": "stderr",
     "output_type": "stream",
     "text": [
      "C:\\Users\\Felipe Giorgi\\Anaconda3\\lib\\site-packages\\pandas\\core\\generic.py:2387: SettingWithCopyWarning: \n",
      "A value is trying to be set on a copy of a slice from a DataFrame.\n",
      "Try using .loc[row_indexer,col_indexer] = value instead\n",
      "\n",
      "See the caveats in the documentation: http://pandas.pydata.org/pandas-docs/stable/indexing.html#indexing-view-versus-copy\n",
      "  self[name] = value\n"
     ]
    }
   ],
   "source": [
    "#Mostrei que a categoria V0219 é qualitativa e alterei o nome de suas variáveis\n",
    "Nordeste2015.V0219 = Nordeste2015.V0219.astype('category')\n",
    "Nordeste2015.V0219.cat.categories = ('Elétrica', 'Óleo, querosene ou gás','Outra forma')"
   ]
  },
  {
   "cell_type": "code",
   "execution_count": 394,
   "metadata": {
    "collapsed": false
   },
   "outputs": [
    {
     "name": "stderr",
     "output_type": "stream",
     "text": [
      "C:\\Users\\Felipe Giorgi\\Anaconda3\\lib\\site-packages\\pandas\\core\\generic.py:2387: SettingWithCopyWarning: \n",
      "A value is trying to be set on a copy of a slice from a DataFrame.\n",
      "Try using .loc[row_indexer,col_indexer] = value instead\n",
      "\n",
      "See the caveats in the documentation: http://pandas.pydata.org/pandas-docs/stable/indexing.html#indexing-view-versus-copy\n",
      "  self[name] = value\n"
     ]
    }
   ],
   "source": [
    "#Mostrei que a categoria V02322 é qualitativa e alterei o nome de suas variáveis\n",
    "Nordeste2015.V02322 = Nordeste2015.V02322.astype('category')\n",
    "Nordeste2015.V02322.cat.categories = ('Sim', 'Não')"
   ]
  },
  {
   "cell_type": "code",
   "execution_count": 395,
   "metadata": {
    "collapsed": false
   },
   "outputs": [
    {
     "name": "stderr",
     "output_type": "stream",
     "text": [
      "C:\\Users\\Felipe Giorgi\\Anaconda3\\lib\\site-packages\\pandas\\core\\generic.py:2387: SettingWithCopyWarning: \n",
      "A value is trying to be set on a copy of a slice from a DataFrame.\n",
      "Try using .loc[row_indexer,col_indexer] = value instead\n",
      "\n",
      "See the caveats in the documentation: http://pandas.pydata.org/pandas-docs/stable/indexing.html#indexing-view-versus-copy\n",
      "  self[name] = value\n"
     ]
    }
   ],
   "source": [
    "#Mostrei que a categoria V0231 é qualitativa e alterei o nome de suas variáveis\n",
    "Nordeste2015.V0231 = Nordeste2015.V0231.astype('category')\n",
    "Nordeste2015.V0231.cat.categories = ('Sim', 'Não')"
   ]
  },
  {
   "cell_type": "code",
   "execution_count": 396,
   "metadata": {
    "collapsed": false
   },
   "outputs": [
    {
     "data": {
      "text/html": [
       "<div>\n",
       "<table border=\"1\" class=\"dataframe\">\n",
       "  <thead>\n",
       "    <tr style=\"text-align: right;\">\n",
       "      <th></th>\n",
       "      <th>Unnamed: 0</th>\n",
       "      <th>V0101</th>\n",
       "      <th>UF</th>\n",
       "      <th>V0102</th>\n",
       "      <th>V0103</th>\n",
       "      <th>V0104</th>\n",
       "      <th>V0105</th>\n",
       "      <th>V0106</th>\n",
       "      <th>V0201</th>\n",
       "      <th>V0202</th>\n",
       "      <th>...</th>\n",
       "      <th>V2136</th>\n",
       "      <th>V2033</th>\n",
       "      <th>V2034</th>\n",
       "      <th>V2035</th>\n",
       "      <th>V2036</th>\n",
       "      <th>V2037</th>\n",
       "      <th>V2038</th>\n",
       "      <th>V2039</th>\n",
       "      <th>V2041</th>\n",
       "      <th>V9992</th>\n",
       "    </tr>\n",
       "  </thead>\n",
       "  <tbody>\n",
       "    <tr>\n",
       "      <th>18333</th>\n",
       "      <td>18333</td>\n",
       "      <td>2009</td>\n",
       "      <td>21</td>\n",
       "      <td>18</td>\n",
       "      <td>1</td>\n",
       "      <td>1</td>\n",
       "      <td>2</td>\n",
       "      <td>2</td>\n",
       "      <td>1</td>\n",
       "      <td>2</td>\n",
       "      <td>...</td>\n",
       "      <td>NaN</td>\n",
       "      <td>3</td>\n",
       "      <td>3</td>\n",
       "      <td>3</td>\n",
       "      <td>3</td>\n",
       "      <td>3</td>\n",
       "      <td>3</td>\n",
       "      <td>3</td>\n",
       "      <td>3</td>\n",
       "      <td>20120710</td>\n",
       "    </tr>\n",
       "    <tr>\n",
       "      <th>18334</th>\n",
       "      <td>18334</td>\n",
       "      <td>2009</td>\n",
       "      <td>21</td>\n",
       "      <td>18</td>\n",
       "      <td>2</td>\n",
       "      <td>1</td>\n",
       "      <td>5</td>\n",
       "      <td>5</td>\n",
       "      <td>1</td>\n",
       "      <td>2</td>\n",
       "      <td>...</td>\n",
       "      <td>NaN</td>\n",
       "      <td>3</td>\n",
       "      <td>3</td>\n",
       "      <td>1</td>\n",
       "      <td>3</td>\n",
       "      <td>3</td>\n",
       "      <td>3</td>\n",
       "      <td>3</td>\n",
       "      <td>3</td>\n",
       "      <td>20120710</td>\n",
       "    </tr>\n",
       "    <tr>\n",
       "      <th>18335</th>\n",
       "      <td>18335</td>\n",
       "      <td>2009</td>\n",
       "      <td>21</td>\n",
       "      <td>18</td>\n",
       "      <td>3</td>\n",
       "      <td>5</td>\n",
       "      <td>NaN</td>\n",
       "      <td>NaN</td>\n",
       "      <td>NaN</td>\n",
       "      <td>NaN</td>\n",
       "      <td>...</td>\n",
       "      <td>NaN</td>\n",
       "      <td>NaN</td>\n",
       "      <td>NaN</td>\n",
       "      <td>NaN</td>\n",
       "      <td>NaN</td>\n",
       "      <td>NaN</td>\n",
       "      <td>NaN</td>\n",
       "      <td>NaN</td>\n",
       "      <td>NaN</td>\n",
       "      <td>20120710</td>\n",
       "    </tr>\n",
       "    <tr>\n",
       "      <th>18336</th>\n",
       "      <td>18336</td>\n",
       "      <td>2009</td>\n",
       "      <td>21</td>\n",
       "      <td>18</td>\n",
       "      <td>4</td>\n",
       "      <td>1</td>\n",
       "      <td>2</td>\n",
       "      <td>2</td>\n",
       "      <td>1</td>\n",
       "      <td>2</td>\n",
       "      <td>...</td>\n",
       "      <td>NaN</td>\n",
       "      <td>3</td>\n",
       "      <td>3</td>\n",
       "      <td>1</td>\n",
       "      <td>3</td>\n",
       "      <td>3</td>\n",
       "      <td>3</td>\n",
       "      <td>3</td>\n",
       "      <td>3</td>\n",
       "      <td>20120710</td>\n",
       "    </tr>\n",
       "    <tr>\n",
       "      <th>18337</th>\n",
       "      <td>18337</td>\n",
       "      <td>2009</td>\n",
       "      <td>21</td>\n",
       "      <td>18</td>\n",
       "      <td>5</td>\n",
       "      <td>1</td>\n",
       "      <td>6</td>\n",
       "      <td>6</td>\n",
       "      <td>1</td>\n",
       "      <td>2</td>\n",
       "      <td>...</td>\n",
       "      <td>NaN</td>\n",
       "      <td>3</td>\n",
       "      <td>3</td>\n",
       "      <td>1</td>\n",
       "      <td>3</td>\n",
       "      <td>3</td>\n",
       "      <td>3</td>\n",
       "      <td>3</td>\n",
       "      <td>3</td>\n",
       "      <td>20120710</td>\n",
       "    </tr>\n",
       "  </tbody>\n",
       "</table>\n",
       "<p>5 rows × 98 columns</p>\n",
       "</div>"
      ],
      "text/plain": [
       "       Unnamed: 0  V0101  UF  V0102  V0103  V0104  V0105  V0106  V0201  V0202  \\\n",
       "18333       18333   2009  21     18      1      1      2      2      1      2   \n",
       "18334       18334   2009  21     18      2      1      5      5      1      2   \n",
       "18335       18335   2009  21     18      3      5    NaN    NaN    NaN    NaN   \n",
       "18336       18336   2009  21     18      4      1      2      2      1      2   \n",
       "18337       18337   2009  21     18      5      1      6      6      1      2   \n",
       "\n",
       "         ...     V2136  V2033  V2034  V2035  V2036  V2037  V2038  V2039  \\\n",
       "18333    ...       NaN      3      3      3      3      3      3      3   \n",
       "18334    ...       NaN      3      3      1      3      3      3      3   \n",
       "18335    ...       NaN    NaN    NaN    NaN    NaN    NaN    NaN    NaN   \n",
       "18336    ...       NaN      3      3      1      3      3      3      3   \n",
       "18337    ...       NaN      3      3      1      3      3      3      3   \n",
       "\n",
       "       V2041     V9992  \n",
       "18333      3  20120710  \n",
       "18334      3  20120710  \n",
       "18335    NaN  20120710  \n",
       "18336      3  20120710  \n",
       "18337      3  20120710  \n",
       "\n",
       "[5 rows x 98 columns]"
      ]
     },
     "execution_count": 396,
     "metadata": {},
     "output_type": "execute_result"
    }
   ],
   "source": [
    "#Separei apenas os estados do Nordeste no PNAD de 2009\n",
    "Nordeste2009 = dados2009[(dados2009.UF > 20) & (dados2009.UF < 30)]\n",
    "Nordeste2009.head()"
   ]
  },
  {
   "cell_type": "code",
   "execution_count": 397,
   "metadata": {
    "collapsed": true
   },
   "outputs": [],
   "source": [
    "#n15 indica o número de domicilíos pesquisados em 2009\n",
    "n09 = Nordeste2009.shape[0]"
   ]
  },
  {
   "cell_type": "code",
   "execution_count": 398,
   "metadata": {
    "collapsed": false,
    "scrolled": false
   },
   "outputs": [
    {
     "name": "stderr",
     "output_type": "stream",
     "text": [
      "C:\\Users\\Felipe Giorgi\\Anaconda3\\lib\\site-packages\\pandas\\core\\generic.py:2387: SettingWithCopyWarning: \n",
      "A value is trying to be set on a copy of a slice from a DataFrame.\n",
      "Try using .loc[row_indexer,col_indexer] = value instead\n",
      "\n",
      "See the caveats in the documentation: http://pandas.pydata.org/pandas-docs/stable/indexing.html#indexing-view-versus-copy\n",
      "  self[name] = value\n"
     ]
    }
   ],
   "source": [
    "#Mostrei que a categoria V0211 é qualitativa e alterei o nome de suas variáveis\n",
    "Nordeste2009.V0211 = Nordeste2009.V0211.astype('category')\n",
    "Nordeste2009.V0211.cat.categories = ('Sim', 'Não')"
   ]
  },
  {
   "cell_type": "code",
   "execution_count": 399,
   "metadata": {
    "collapsed": false
   },
   "outputs": [
    {
     "name": "stderr",
     "output_type": "stream",
     "text": [
      "C:\\Users\\Felipe Giorgi\\Anaconda3\\lib\\site-packages\\pandas\\core\\generic.py:2387: SettingWithCopyWarning: \n",
      "A value is trying to be set on a copy of a slice from a DataFrame.\n",
      "Try using .loc[row_indexer,col_indexer] = value instead\n",
      "\n",
      "See the caveats in the documentation: http://pandas.pydata.org/pandas-docs/stable/indexing.html#indexing-view-versus-copy\n",
      "  self[name] = value\n"
     ]
    }
   ],
   "source": [
    "#Mostrei que a categoria V0212 é qualitativa e alterei o nome de suas variáveis\n",
    "Nordeste2009.V0212 = Nordeste2009.V0212.astype('category')\n",
    "Nordeste2009.V0212.cat.categories = ('Rede geral de distribuição', 'Poço ou nascente','Outra proveniência')"
   ]
  },
  {
   "cell_type": "code",
   "execution_count": 400,
   "metadata": {
    "collapsed": false
   },
   "outputs": [
    {
     "name": "stderr",
     "output_type": "stream",
     "text": [
      "C:\\Users\\Felipe Giorgi\\Anaconda3\\lib\\site-packages\\pandas\\core\\generic.py:2387: SettingWithCopyWarning: \n",
      "A value is trying to be set on a copy of a slice from a DataFrame.\n",
      "Try using .loc[row_indexer,col_indexer] = value instead\n",
      "\n",
      "See the caveats in the documentation: http://pandas.pydata.org/pandas-docs/stable/indexing.html#indexing-view-versus-copy\n",
      "  self[name] = value\n"
     ]
    }
   ],
   "source": [
    "#Mostrei que a categoria V0217 é qualitativa e alterei o nome de suas variáveis\n",
    "Nordeste2009.V0217 = Nordeste2009.V0217.astype('category')\n",
    "Nordeste2009.V0217.cat.categories = ('Rede coletora de esgoto ou pluvial', 'Fossa séptica ligada a rede','Fossa séptica não ligada','Fossa rudimentar','Vala','Direto para o rio, lago ou mar','Outra forma')"
   ]
  },
  {
   "cell_type": "code",
   "execution_count": 401,
   "metadata": {
    "collapsed": false
   },
   "outputs": [
    {
     "name": "stderr",
     "output_type": "stream",
     "text": [
      "C:\\Users\\Felipe Giorgi\\Anaconda3\\lib\\site-packages\\pandas\\core\\generic.py:2387: SettingWithCopyWarning: \n",
      "A value is trying to be set on a copy of a slice from a DataFrame.\n",
      "Try using .loc[row_indexer,col_indexer] = value instead\n",
      "\n",
      "See the caveats in the documentation: http://pandas.pydata.org/pandas-docs/stable/indexing.html#indexing-view-versus-copy\n",
      "  self[name] = value\n"
     ]
    }
   ],
   "source": [
    "#Mostrei que a categoria V0218 é qualitativa e alterei o nome de suas variáveis\n",
    "Nordeste2009.V0218 = Nordeste2009.V0218.astype('category')\n",
    "Nordeste2009.V0218.cat.categories = ('Coletado diretamente', 'Coletado indiretamente','Queimado ou enterrado na propriedade','Jogado em terreno baldio ou logradouro','Jogado em rio, lago ou mar','Outra destino')"
   ]
  },
  {
   "cell_type": "code",
   "execution_count": 402,
   "metadata": {
    "collapsed": false
   },
   "outputs": [
    {
     "name": "stderr",
     "output_type": "stream",
     "text": [
      "C:\\Users\\Felipe Giorgi\\Anaconda3\\lib\\site-packages\\pandas\\core\\generic.py:2387: SettingWithCopyWarning: \n",
      "A value is trying to be set on a copy of a slice from a DataFrame.\n",
      "Try using .loc[row_indexer,col_indexer] = value instead\n",
      "\n",
      "See the caveats in the documentation: http://pandas.pydata.org/pandas-docs/stable/indexing.html#indexing-view-versus-copy\n",
      "  self[name] = value\n"
     ]
    }
   ],
   "source": [
    "#Mostrei que a categoria V0219 é qualitativa e alterei o nome de suas variáveis\n",
    "Nordeste2009.V0219 = Nordeste2009.V0219.astype('category')\n",
    "Nordeste2009.V0219.cat.categories = ('Elétrica', 'Óleo, querosene ou gás','Outra forma')"
   ]
  },
  {
   "cell_type": "code",
   "execution_count": 403,
   "metadata": {
    "collapsed": false
   },
   "outputs": [
    {
     "name": "stderr",
     "output_type": "stream",
     "text": [
      "C:\\Users\\Felipe Giorgi\\Anaconda3\\lib\\site-packages\\pandas\\core\\generic.py:2387: SettingWithCopyWarning: \n",
      "A value is trying to be set on a copy of a slice from a DataFrame.\n",
      "Try using .loc[row_indexer,col_indexer] = value instead\n",
      "\n",
      "See the caveats in the documentation: http://pandas.pydata.org/pandas-docs/stable/indexing.html#indexing-view-versus-copy\n",
      "  self[name] = value\n"
     ]
    }
   ],
   "source": [
    "#Mostrei que a categoria V0231 é qualitativa e alterei o nome de suas variáveis\n",
    "Nordeste2009.V0231 = Nordeste2009.V0231.astype('category')\n",
    "Nordeste2009.V0231.cat.categories = ('Sim', 'Não')"
   ]
  },
  {
   "cell_type": "code",
   "execution_count": 404,
   "metadata": {
    "collapsed": false
   },
   "outputs": [
    {
     "name": "stderr",
     "output_type": "stream",
     "text": [
      "C:\\Users\\Felipe Giorgi\\Anaconda3\\lib\\site-packages\\pandas\\core\\generic.py:2387: SettingWithCopyWarning: \n",
      "A value is trying to be set on a copy of a slice from a DataFrame.\n",
      "Try using .loc[row_indexer,col_indexer] = value instead\n",
      "\n",
      "See the caveats in the documentation: http://pandas.pydata.org/pandas-docs/stable/indexing.html#indexing-view-versus-copy\n",
      "  self[name] = value\n"
     ]
    }
   ],
   "source": [
    "#Mostrei que a categoria V0232 é qualitativa e alterei o nome de suas variáveis\n",
    "Nordeste2009.V0232 = Nordeste2009.V0232.astype('category')\n",
    "Nordeste2009.V0232.cat.categories = ('Sim', 'Não')"
   ]
  },
  {
   "cell_type": "code",
   "execution_count": 405,
   "metadata": {
    "collapsed": false
   },
   "outputs": [
    {
     "name": "stdout",
     "output_type": "stream",
     "text": [
      "Número de domicilios estudados em 2009: \n"
     ]
    },
    {
     "data": {
      "text/plain": [
       "46243"
      ]
     },
     "execution_count": 405,
     "metadata": {},
     "output_type": "execute_result"
    }
   ],
   "source": [
    "print('Número de domicilios estudados em 2009: ')\n",
    "n09"
   ]
  },
  {
   "cell_type": "code",
   "execution_count": 406,
   "metadata": {
    "collapsed": false
   },
   "outputs": [
    {
     "name": "stdout",
     "output_type": "stream",
     "text": [
      "Número de domicilios estudados em 2015: \n"
     ]
    },
    {
     "data": {
      "text/plain": [
       "43434"
      ]
     },
     "execution_count": 406,
     "metadata": {},
     "output_type": "execute_result"
    }
   ],
   "source": [
    "print('Número de domicilios estudados em 2015: ')\n",
    "n15"
   ]
  },
  {
   "cell_type": "markdown",
   "metadata": {},
   "source": [
    "## <font color='red'>Análise do saneamento báscio do Nordeste</font>"
   ]
  },
  {
   "cell_type": "code",
   "execution_count": 407,
   "metadata": {
    "collapsed": false
   },
   "outputs": [
    {
     "name": "stdout",
     "output_type": "stream",
     "text": [
      "Número de casas que tem água canalizada em pelo menos um dos cômodos da casa em 2009: \n"
     ]
    },
    {
     "data": {
      "text/plain": [
       "Sim    31471\n",
       "Não     4965\n",
       "dtype: int64"
      ]
     },
     "execution_count": 407,
     "metadata": {},
     "output_type": "execute_result"
    }
   ],
   "source": [
    "print('Número de casas que tem água canalizada em pelo menos um dos cômodos da casa em 2009: ')\n",
    "Nordeste2009.V0211.value_counts()"
   ]
  },
  {
   "cell_type": "code",
   "execution_count": 408,
   "metadata": {
    "collapsed": false
   },
   "outputs": [
    {
     "name": "stdout",
     "output_type": "stream",
     "text": [
      "Número de casas que tem água canalizada em pelo menos um dos cômodos da casa em 2015: \n"
     ]
    },
    {
     "data": {
      "text/plain": [
       "Sim    29584\n",
       "Não     2991\n",
       "dtype: int64"
      ]
     },
     "execution_count": 408,
     "metadata": {},
     "output_type": "execute_result"
    }
   ],
   "source": [
    "print('Número de casas que tem água canalizada em pelo menos um dos cômodos da casa em 2015: ')\n",
    "Nordeste2015.V0211.value_counts()"
   ]
  },
  {
   "cell_type": "code",
   "execution_count": 409,
   "metadata": {
    "collapsed": false
   },
   "outputs": [
    {
     "data": {
      "text/plain": [
       "<matplotlib.axes._subplots.AxesSubplot at 0x1e3867f7fd0>"
      ]
     },
     "execution_count": 409,
     "metadata": {},
     "output_type": "execute_result"
    },
    {
     "data": {
      "image/png": "[encoded data removed]",
      "text/plain": [
       "<matplotlib.figure.Figure at 0x1e3867f7128>"
      ]
     },
     "metadata": {},
     "output_type": "display_data"
    }
   ],
   "source": [
    "N09_V0211 = (Nordeste2009.V0211.value_counts()/n09*100).round(decimals = 2)\n",
    "N09_V0211.plot(kind='pie', colors=('blue', 'red'),title = 'Frequência relativa de água canalizada em 2009' ,autopct=\"%0.2f\")"
   ]
  },
  {
   "cell_type": "code",
   "execution_count": 410,
   "metadata": {
    "collapsed": false
   },
   "outputs": [
    {
     "data": {
      "text/plain": [
       "<matplotlib.axes._subplots.AxesSubplot at 0x1e391a954e0>"
      ]
     },
     "execution_count": 410,
     "metadata": {},
     "output_type": "execute_result"
    },
    {
     "data": {
      "image/png": "[encoded data removed]",
      "text/plain": [
       "<matplotlib.figure.Figure at 0x1e39606eda0>"
      ]
     },
     "metadata": {},
     "output_type": "display_data"
    }
   ],
   "source": [
    "N15_V0211 = (Nordeste2015.V0211.value_counts()/n15*100).round(decimals=2)\n",
    "N15_V0211.plot(kind='pie', colors=('blue', 'red'),title = 'Frequência relativa de água canalizada em 2015' ,autopct=\"%0.2f\")"
   ]
  },
  {
   "cell_type": "code",
   "execution_count": 411,
   "metadata": {
    "collapsed": false
   },
   "outputs": [
    {
     "data": {
      "text/plain": [
       "<matplotlib.axes._subplots.AxesSubplot at 0x1e3907ab198>"
      ]
     },
     "execution_count": 411,
     "metadata": {},
     "output_type": "execute_result"
    },
    {
     "data": {
      "image/png": "[encoded data removed]",
      "text/plain": [
       "<matplotlib.figure.Figure at 0x1e391a83a90>"
      ]
     },
     "metadata": {},
     "output_type": "display_data"
    }
   ],
   "source": [
    "N09_V0212 =(Nordeste2009.V0212.value_counts()/n09*100).round(decimals = 2)\n",
    "N09_V0212.plot(kind='pie', colors=('blue', 'red'),title = 'Proveniência da água canalizada em 2009' ,autopct=\"%0.2f\")"
   ]
  },
  {
   "cell_type": "code",
   "execution_count": 412,
   "metadata": {
    "collapsed": false
   },
   "outputs": [
    {
     "data": {
      "text/plain": [
       "<matplotlib.axes._subplots.AxesSubplot at 0x1e38682da20>"
      ]
     },
     "execution_count": 412,
     "metadata": {},
     "output_type": "execute_result"
    },
    {
     "data": {
      "image/png": "[encoded data removed]",
      "text/plain": [
       "<matplotlib.figure.Figure at 0x1e391da24e0>"
      ]
     },
     "metadata": {},
     "output_type": "display_data"
    }
   ],
   "source": [
    "N15_V0212 =(Nordeste2015.V0212.value_counts()/n15*100).round(decimals = 2)\n",
    "N15_V0212.plot(kind='pie', colors=('blue', 'red'),title = 'Proveniência da água canalizada em 2015' ,autopct=\"%0.2f\")"
   ]
  },
  {
   "cell_type": "code",
   "execution_count": 413,
   "metadata": {
    "collapsed": false
   },
   "outputs": [
    {
     "name": "stdout",
     "output_type": "stream",
     "text": [
      "Forma de escoadouro do banheiro ou sanitário em 2009: \n"
     ]
    },
    {
     "data": {
      "text/plain": [
       "Rede coletora de esgoto ou pluvial    29.4\n",
       "Fossa rudimentar                      25.6\n",
       "Fossa séptica não ligada              12.1\n",
       "Fossa séptica ligada a rede            2.7\n",
       "Vala                                   1.9\n",
       "Direto para o rio, lago ou mar         1.2\n",
       "Outra forma                            0.1\n",
       "dtype: float64"
      ]
     },
     "execution_count": 413,
     "metadata": {},
     "output_type": "execute_result"
    }
   ],
   "source": [
    "print('Forma de escoadouro do banheiro ou sanitário em 2009: ')\n",
    "N09_V0217 = (Nordeste2009.V0217.value_counts()/n09*100).round(decimals=1)\n",
    "N09_V0217"
   ]
  },
  {
   "cell_type": "code",
   "execution_count": 414,
   "metadata": {
    "collapsed": false
   },
   "outputs": [
    {
     "name": "stdout",
     "output_type": "stream",
     "text": [
      "Forma de escoadouro do banheiro ou sanitário em 2015: \n"
     ]
    },
    {
     "data": {
      "text/plain": [
       "Rede coletora de esgoto ou pluvial    31.8\n",
       "Fossa rudimentar                      18.5\n",
       "Fossa séptica não ligada              15.2\n",
       "Fossa séptica ligada a rede            3.8\n",
       "Vala                                   1.6\n",
       "Direto para o rio, lago ou mar         0.8\n",
       "Outra forma                            0.1\n",
       "dtype: float64"
      ]
     },
     "execution_count": 414,
     "metadata": {},
     "output_type": "execute_result"
    }
   ],
   "source": [
    "print('Forma de escoadouro do banheiro ou sanitário em 2015: ')\n",
    "N15_V0217 = (Nordeste2015.V0217.value_counts()/n15*100).round(decimals=1)\n",
    "N15_V0217"
   ]
  },
  {
   "cell_type": "code",
   "execution_count": 415,
   "metadata": {
    "collapsed": false
   },
   "outputs": [
    {
     "data": {
      "text/plain": [
       "<matplotlib.text.Text at 0x1e3869279b0>"
      ]
     },
     "execution_count": 415,
     "metadata": {},
     "output_type": "execute_result"
    },
    {
     "data": {
      "image/png": "[encoded data removed]",
      "text/plain": [
       "<matplotlib.figure.Figure at 0x1e3868e65f8>"
      ]
     },
     "metadata": {},
     "output_type": "display_data"
    }
   ],
   "source": [
    "N09_V0217.plot(kind='bar', color=('blue', 'red'), legend=False)\n",
    "plt.ylabel('Frequência')\n",
    "plt.xlabel('Forma de escoadouro do banheiro ou sanitário em 2009')"
   ]
  },
  {
   "cell_type": "code",
   "execution_count": 416,
   "metadata": {
    "collapsed": false
   },
   "outputs": [
    {
     "data": {
      "text/plain": [
       "<matplotlib.text.Text at 0x1e38692e5f8>"
      ]
     },
     "execution_count": 416,
     "metadata": {},
     "output_type": "execute_result"
    },
    {
     "data": {
      "image/png": "[encoded data removed]",
      "text/plain": [
       "<matplotlib.figure.Figure at 0x1e3869972b0>"
      ]
     },
     "metadata": {},
     "output_type": "display_data"
    }
   ],
   "source": [
    "N15_V0217.plot(kind='bar', color=('blue', 'red'), legend=False)\n",
    "plt.ylabel('Frequência')\n",
    "plt.xlabel('Forma de escoadouro do banheiro ou sanitário em 2015')"
   ]
  },
  {
   "cell_type": "code",
   "execution_count": 417,
   "metadata": {
    "collapsed": false
   },
   "outputs": [
    {
     "name": "stdout",
     "output_type": "stream",
     "text": [
      "2009\n"
     ]
    },
    {
     "data": {
      "text/html": [
       "<div>\n",
       "<table border=\"1\" class=\"dataframe\">\n",
       "  <thead>\n",
       "    <tr style=\"text-align: right;\">\n",
       "      <th>Forma de escoadouro</th>\n",
       "      <th>Rede coletora de esgoto ou pluvial</th>\n",
       "      <th>Fossa séptica ligada a rede</th>\n",
       "      <th>Fossa séptica não ligada</th>\n",
       "      <th>Fossa rudimentar</th>\n",
       "      <th>Vala</th>\n",
       "      <th>Direto para o rio, lago ou mar</th>\n",
       "      <th>Outra forma</th>\n",
       "      <th>All</th>\n",
       "    </tr>\n",
       "    <tr>\n",
       "      <th>Água canalizada</th>\n",
       "      <th></th>\n",
       "      <th></th>\n",
       "      <th></th>\n",
       "      <th></th>\n",
       "      <th></th>\n",
       "      <th></th>\n",
       "      <th></th>\n",
       "      <th></th>\n",
       "    </tr>\n",
       "  </thead>\n",
       "  <tbody>\n",
       "    <tr>\n",
       "      <th>Sim</th>\n",
       "      <td>13383</td>\n",
       "      <td>1236</td>\n",
       "      <td>5159</td>\n",
       "      <td>9906</td>\n",
       "      <td>533</td>\n",
       "      <td>523</td>\n",
       "      <td>35</td>\n",
       "      <td>31471</td>\n",
       "    </tr>\n",
       "    <tr>\n",
       "      <th>Não</th>\n",
       "      <td>216</td>\n",
       "      <td>18</td>\n",
       "      <td>431</td>\n",
       "      <td>1932</td>\n",
       "      <td>323</td>\n",
       "      <td>36</td>\n",
       "      <td>10</td>\n",
       "      <td>4965</td>\n",
       "    </tr>\n",
       "    <tr>\n",
       "      <th>All</th>\n",
       "      <td>13599</td>\n",
       "      <td>1254</td>\n",
       "      <td>5590</td>\n",
       "      <td>11838</td>\n",
       "      <td>856</td>\n",
       "      <td>559</td>\n",
       "      <td>45</td>\n",
       "      <td>46243</td>\n",
       "    </tr>\n",
       "  </tbody>\n",
       "</table>\n",
       "</div>"
      ],
      "text/plain": [
       "Forma de escoadouro  Rede coletora de esgoto ou pluvial  \\\n",
       "Água canalizada                                           \n",
       "Sim                                               13383   \n",
       "Não                                                 216   \n",
       "All                                               13599   \n",
       "\n",
       "Forma de escoadouro  Fossa séptica ligada a rede  Fossa séptica não ligada  \\\n",
       "Água canalizada                                                              \n",
       "Sim                                         1236                      5159   \n",
       "Não                                           18                       431   \n",
       "All                                         1254                      5590   \n",
       "\n",
       "Forma de escoadouro  Fossa rudimentar  Vala  Direto para o rio, lago ou mar  \\\n",
       "Água canalizada                                                               \n",
       "Sim                              9906   533                             523   \n",
       "Não                              1932   323                              36   \n",
       "All                             11838   856                             559   \n",
       "\n",
       "Forma de escoadouro  Outra forma    All  \n",
       "Água canalizada                          \n",
       "Sim                           35  31471  \n",
       "Não                           10   4965  \n",
       "All                           45  46243  "
      ]
     },
     "execution_count": 417,
     "metadata": {},
     "output_type": "execute_result"
    }
   ],
   "source": [
    "print('2009')\n",
    "C09_V0211_V0217 = pd.crosstab(Nordeste2009.V0211, Nordeste2009.V0217, rownames=['Água canalizada'], colnames=['Forma de escoadouro'], margins=True)\n",
    "C09_V0211_V0217"
   ]
  },
  {
   "cell_type": "code",
   "execution_count": 418,
   "metadata": {
    "collapsed": false,
    "scrolled": true
   },
   "outputs": [
    {
     "name": "stdout",
     "output_type": "stream",
     "text": [
      "2015\n"
     ]
    },
    {
     "data": {
      "text/html": [
       "<div>\n",
       "<table border=\"1\" class=\"dataframe\">\n",
       "  <thead>\n",
       "    <tr style=\"text-align: right;\">\n",
       "      <th>Forma de escoadouro</th>\n",
       "      <th>Rede coletora de esgoto ou pluvial</th>\n",
       "      <th>Fossa séptica ligada a rede</th>\n",
       "      <th>Fossa séptica não ligada</th>\n",
       "      <th>Fossa rudimentar</th>\n",
       "      <th>Vala</th>\n",
       "      <th>Direto para o rio, lago ou mar</th>\n",
       "      <th>Outra forma</th>\n",
       "      <th>All</th>\n",
       "    </tr>\n",
       "    <tr>\n",
       "      <th>Água canalizada</th>\n",
       "      <th></th>\n",
       "      <th></th>\n",
       "      <th></th>\n",
       "      <th></th>\n",
       "      <th></th>\n",
       "      <th></th>\n",
       "      <th></th>\n",
       "      <th></th>\n",
       "    </tr>\n",
       "  </thead>\n",
       "  <tbody>\n",
       "    <tr>\n",
       "      <th>Sim</th>\n",
       "      <td>13702</td>\n",
       "      <td>1612</td>\n",
       "      <td>6142</td>\n",
       "      <td>6756</td>\n",
       "      <td>495</td>\n",
       "      <td>318</td>\n",
       "      <td>38</td>\n",
       "      <td>29584</td>\n",
       "    </tr>\n",
       "    <tr>\n",
       "      <th>Não</th>\n",
       "      <td>99</td>\n",
       "      <td>54</td>\n",
       "      <td>469</td>\n",
       "      <td>1266</td>\n",
       "      <td>184</td>\n",
       "      <td>21</td>\n",
       "      <td>17</td>\n",
       "      <td>2991</td>\n",
       "    </tr>\n",
       "    <tr>\n",
       "      <th>All</th>\n",
       "      <td>13801</td>\n",
       "      <td>1666</td>\n",
       "      <td>6611</td>\n",
       "      <td>8022</td>\n",
       "      <td>679</td>\n",
       "      <td>339</td>\n",
       "      <td>55</td>\n",
       "      <td>43434</td>\n",
       "    </tr>\n",
       "  </tbody>\n",
       "</table>\n",
       "</div>"
      ],
      "text/plain": [
       "Forma de escoadouro  Rede coletora de esgoto ou pluvial  \\\n",
       "Água canalizada                                           \n",
       "Sim                                               13702   \n",
       "Não                                                  99   \n",
       "All                                               13801   \n",
       "\n",
       "Forma de escoadouro  Fossa séptica ligada a rede  Fossa séptica não ligada  \\\n",
       "Água canalizada                                                              \n",
       "Sim                                         1612                      6142   \n",
       "Não                                           54                       469   \n",
       "All                                         1666                      6611   \n",
       "\n",
       "Forma de escoadouro  Fossa rudimentar  Vala  Direto para o rio, lago ou mar  \\\n",
       "Água canalizada                                                               \n",
       "Sim                              6756   495                             318   \n",
       "Não                              1266   184                              21   \n",
       "All                              8022   679                             339   \n",
       "\n",
       "Forma de escoadouro  Outra forma    All  \n",
       "Água canalizada                          \n",
       "Sim                           38  29584  \n",
       "Não                           17   2991  \n",
       "All                           55  43434  "
      ]
     },
     "execution_count": 418,
     "metadata": {},
     "output_type": "execute_result"
    }
   ],
   "source": [
    "print('2015')\n",
    "C15_V0211_V0217 = pd.crosstab(Nordeste2015.V0211, Nordeste2015.V0217, rownames=['Água canalizada'], colnames=['Forma de escoadouro'], margins=True)\n",
    "C15_V0211_V0217"
   ]
  },
  {
   "cell_type": "code",
   "execution_count": 419,
   "metadata": {
    "collapsed": false
   },
   "outputs": [
    {
     "name": "stdout",
     "output_type": "stream",
     "text": [
      "Tabela com frequências relativas(2009): \n"
     ]
    },
    {
     "data": {
      "text/html": [
       "<div>\n",
       "<table border=\"1\" class=\"dataframe\">\n",
       "  <thead>\n",
       "    <tr style=\"text-align: right;\">\n",
       "      <th></th>\n",
       "      <th>Rede coletora de esgoto ou pluvial</th>\n",
       "      <th>Fossa séptica ligada a rede</th>\n",
       "      <th>Fossa séptica não ligada</th>\n",
       "      <th>Fossa rudimentar</th>\n",
       "      <th>Vala</th>\n",
       "      <th>Direto para o rio, lago ou mar</th>\n",
       "      <th>Outra forma</th>\n",
       "      <th>All</th>\n",
       "    </tr>\n",
       "    <tr>\n",
       "      <th>Água canalizada</th>\n",
       "      <th></th>\n",
       "      <th></th>\n",
       "      <th></th>\n",
       "      <th></th>\n",
       "      <th></th>\n",
       "      <th></th>\n",
       "      <th></th>\n",
       "      <th></th>\n",
       "    </tr>\n",
       "  </thead>\n",
       "  <tbody>\n",
       "    <tr>\n",
       "      <th>Sim</th>\n",
       "      <td>28.9</td>\n",
       "      <td>2.7</td>\n",
       "      <td>11.2</td>\n",
       "      <td>21.4</td>\n",
       "      <td>1.2</td>\n",
       "      <td>1.1</td>\n",
       "      <td>0.1</td>\n",
       "      <td>68.1</td>\n",
       "    </tr>\n",
       "    <tr>\n",
       "      <th>Não</th>\n",
       "      <td>0.5</td>\n",
       "      <td>0.0</td>\n",
       "      <td>0.9</td>\n",
       "      <td>4.2</td>\n",
       "      <td>0.7</td>\n",
       "      <td>0.1</td>\n",
       "      <td>0.0</td>\n",
       "      <td>10.7</td>\n",
       "    </tr>\n",
       "    <tr>\n",
       "      <th>All</th>\n",
       "      <td>29.4</td>\n",
       "      <td>2.7</td>\n",
       "      <td>12.1</td>\n",
       "      <td>25.6</td>\n",
       "      <td>1.9</td>\n",
       "      <td>1.2</td>\n",
       "      <td>0.1</td>\n",
       "      <td>100.0</td>\n",
       "    </tr>\n",
       "  </tbody>\n",
       "</table>\n",
       "</div>"
      ],
      "text/plain": [
       "                 Rede coletora de esgoto ou pluvial  \\\n",
       "Água canalizada                                       \n",
       "Sim                                            28.9   \n",
       "Não                                             0.5   \n",
       "All                                            29.4   \n",
       "\n",
       "                 Fossa séptica ligada a rede  Fossa séptica não ligada  \\\n",
       "Água canalizada                                                          \n",
       "Sim                                      2.7                      11.2   \n",
       "Não                                      0.0                       0.9   \n",
       "All                                      2.7                      12.1   \n",
       "\n",
       "                 Fossa rudimentar  Vala  Direto para o rio, lago ou mar  \\\n",
       "Água canalizada                                                           \n",
       "Sim                          21.4   1.2                             1.1   \n",
       "Não                           4.2   0.7                             0.1   \n",
       "All                          25.6   1.9                             1.2   \n",
       "\n",
       "                 Outra forma    All  \n",
       "Água canalizada                      \n",
       "Sim                      0.1   68.1  \n",
       "Não                      0.0   10.7  \n",
       "All                      0.1  100.0  "
      ]
     },
     "execution_count": 419,
     "metadata": {},
     "output_type": "execute_result"
    }
   ],
   "source": [
    "print('Tabela com frequências relativas(2009): ')\n",
    "R1 = (C09_V0211_V0217/len(Nordeste2009)*100).round(decimals=1)\n",
    "R1"
   ]
  },
  {
   "cell_type": "code",
   "execution_count": 420,
   "metadata": {
    "collapsed": false
   },
   "outputs": [
    {
     "name": "stdout",
     "output_type": "stream",
     "text": [
      "Tabela com frequências relativas(2015): \n"
     ]
    },
    {
     "data": {
      "text/html": [
       "<div>\n",
       "<table border=\"1\" class=\"dataframe\">\n",
       "  <thead>\n",
       "    <tr style=\"text-align: right;\">\n",
       "      <th></th>\n",
       "      <th>Rede coletora de esgoto ou pluvial</th>\n",
       "      <th>Fossa séptica ligada a rede</th>\n",
       "      <th>Fossa séptica não ligada</th>\n",
       "      <th>Fossa rudimentar</th>\n",
       "      <th>Vala</th>\n",
       "      <th>Direto para o rio, lago ou mar</th>\n",
       "      <th>Outra forma</th>\n",
       "      <th>All</th>\n",
       "    </tr>\n",
       "    <tr>\n",
       "      <th>Água canalizada</th>\n",
       "      <th></th>\n",
       "      <th></th>\n",
       "      <th></th>\n",
       "      <th></th>\n",
       "      <th></th>\n",
       "      <th></th>\n",
       "      <th></th>\n",
       "      <th></th>\n",
       "    </tr>\n",
       "  </thead>\n",
       "  <tbody>\n",
       "    <tr>\n",
       "      <th>Sim</th>\n",
       "      <td>31.5</td>\n",
       "      <td>3.7</td>\n",
       "      <td>14.1</td>\n",
       "      <td>15.6</td>\n",
       "      <td>1.1</td>\n",
       "      <td>0.7</td>\n",
       "      <td>0.1</td>\n",
       "      <td>68.1</td>\n",
       "    </tr>\n",
       "    <tr>\n",
       "      <th>Não</th>\n",
       "      <td>0.2</td>\n",
       "      <td>0.1</td>\n",
       "      <td>1.1</td>\n",
       "      <td>2.9</td>\n",
       "      <td>0.4</td>\n",
       "      <td>0.0</td>\n",
       "      <td>0.0</td>\n",
       "      <td>6.9</td>\n",
       "    </tr>\n",
       "    <tr>\n",
       "      <th>All</th>\n",
       "      <td>31.8</td>\n",
       "      <td>3.8</td>\n",
       "      <td>15.2</td>\n",
       "      <td>18.5</td>\n",
       "      <td>1.6</td>\n",
       "      <td>0.8</td>\n",
       "      <td>0.1</td>\n",
       "      <td>100.0</td>\n",
       "    </tr>\n",
       "  </tbody>\n",
       "</table>\n",
       "</div>"
      ],
      "text/plain": [
       "                 Rede coletora de esgoto ou pluvial  \\\n",
       "Água canalizada                                       \n",
       "Sim                                            31.5   \n",
       "Não                                             0.2   \n",
       "All                                            31.8   \n",
       "\n",
       "                 Fossa séptica ligada a rede  Fossa séptica não ligada  \\\n",
       "Água canalizada                                                          \n",
       "Sim                                      3.7                      14.1   \n",
       "Não                                      0.1                       1.1   \n",
       "All                                      3.8                      15.2   \n",
       "\n",
       "                 Fossa rudimentar  Vala  Direto para o rio, lago ou mar  \\\n",
       "Água canalizada                                                           \n",
       "Sim                          15.6   1.1                             0.7   \n",
       "Não                           2.9   0.4                             0.0   \n",
       "All                          18.5   1.6                             0.8   \n",
       "\n",
       "                 Outra forma    All  \n",
       "Água canalizada                      \n",
       "Sim                      0.1   68.1  \n",
       "Não                      0.0    6.9  \n",
       "All                      0.1  100.0  "
      ]
     },
     "execution_count": 420,
     "metadata": {},
     "output_type": "execute_result"
    }
   ],
   "source": [
    "print('Tabela com frequências relativas(2015): ')\n",
    "R2 = (C15_V0211_V0217/len(Nordeste2015)*100).round(decimals=1)\n",
    "R2"
   ]
  },
  {
   "cell_type": "code",
   "execution_count": 421,
   "metadata": {
    "collapsed": false
   },
   "outputs": [
    {
     "name": "stdout",
     "output_type": "stream",
     "text": [
      "Destino do lixo domiciliar em 2009:\n"
     ]
    },
    {
     "data": {
      "text/plain": [
       "Coletado diretamente                      54.3\n",
       "Queimado ou enterrado na propriedade      11.4\n",
       "Coletado indiretamente                     9.8\n",
       "Jogado em terreno baldio ou logradouro     3.2\n",
       "Jogado em rio, lago ou mar                 0.1\n",
       "Outra destino                              0.0\n",
       "dtype: float64"
      ]
     },
     "execution_count": 421,
     "metadata": {},
     "output_type": "execute_result"
    }
   ],
   "source": [
    "print('Destino do lixo domiciliar em 2009:')\n",
    "N09_V0218 = (Nordeste2009.V0218.value_counts()/n09*100).round(decimals=1)\n",
    "N09_V0218"
   ]
  },
  {
   "cell_type": "code",
   "execution_count": 422,
   "metadata": {
    "collapsed": false
   },
   "outputs": [
    {
     "name": "stdout",
     "output_type": "stream",
     "text": [
      "Destino do lixo domiciliar em 2015:\n"
     ]
    },
    {
     "data": {
      "text/plain": [
       "Coletado diretamente                      53.4\n",
       "Queimado ou enterrado na propriedade      11.3\n",
       "Coletado indiretamente                     8.9\n",
       "Jogado em terreno baldio ou logradouro     1.3\n",
       "Outra destino                              0.0\n",
       "Jogado em rio, lago ou mar                 0.0\n",
       "dtype: float64"
      ]
     },
     "execution_count": 422,
     "metadata": {},
     "output_type": "execute_result"
    }
   ],
   "source": [
    "print('Destino do lixo domiciliar em 2015:')\n",
    "N15_V0218 = (Nordeste2015.V0218.value_counts()/n15*100).round(decimals=1)\n",
    "N15_V0218\n"
   ]
  },
  {
   "cell_type": "code",
   "execution_count": 423,
   "metadata": {
    "collapsed": false
   },
   "outputs": [
    {
     "data": {
      "text/plain": [
       "<matplotlib.text.Text at 0x1e386985e80>"
      ]
     },
     "execution_count": 423,
     "metadata": {},
     "output_type": "execute_result"
    },
    {
     "data": {
      "image/png": "[encoded data removed]",
      "text/plain": [
       "<matplotlib.figure.Figure at 0x1e386997cf8>"
      ]
     },
     "metadata": {},
     "output_type": "display_data"
    }
   ],
   "source": [
    "N09_V0218.plot(kind='bar', color=('blue', 'red'), legend=False)\n",
    "plt.ylabel('Frequência')\n",
    "plt.xlabel('Destino do lixo domiciliar em 2009')"
   ]
  },
  {
   "cell_type": "code",
   "execution_count": 424,
   "metadata": {
    "collapsed": false
   },
   "outputs": [
    {
     "data": {
      "text/plain": [
       "<matplotlib.text.Text at 0x1e39078c080>"
      ]
     },
     "execution_count": 424,
     "metadata": {},
     "output_type": "execute_result"
    },
    {
     "data": {
      "image/png": "[encoded data removed]",
      "text/plain": [
       "<matplotlib.figure.Figure at 0x1e391941978>"
      ]
     },
     "metadata": {},
     "output_type": "display_data"
    }
   ],
   "source": [
    "N15_V0218.plot(kind='bar', color=('blue', 'red'), legend=False)\n",
    "plt.ylabel('Frequência')\n",
    "plt.xlabel('Destino do lixo domiciliar em 2015')"
   ]
  },
  {
   "cell_type": "markdown",
   "metadata": {},
   "source": [
    "Com a análise feita do saneamento básico, a mudança foi pequena. Os parametros estudados não mudaram consideravelmente."
   ]
  },
  {
   "cell_type": "markdown",
   "metadata": {},
   "source": [
    "## <font color='red'>Análise da tecnologia nos domicílios do Nordeste</font>"
   ]
  },
  {
   "cell_type": "code",
   "execution_count": 425,
   "metadata": {
    "collapsed": false
   },
   "outputs": [
    {
     "name": "stdout",
     "output_type": "stream",
     "text": [
      "Forma de iluminação em 2009:\n"
     ]
    },
    {
     "data": {
      "text/plain": [
       "Elétrica                  77.40\n",
       "Óleo, querosene ou gás     1.19\n",
       "Outra forma                0.20\n",
       "dtype: float64"
      ]
     },
     "execution_count": 425,
     "metadata": {},
     "output_type": "execute_result"
    }
   ],
   "source": [
    "print('Forma de iluminação em 2009:')\n",
    "N09_V0219 = (Nordeste2009.V0219.value_counts()/n09*100).round(decimals = 2)\n",
    "N09_V0219"
   ]
  },
  {
   "cell_type": "code",
   "execution_count": 426,
   "metadata": {
    "collapsed": false
   },
   "outputs": [
    {
     "name": "stdout",
     "output_type": "stream",
     "text": [
      "Forma de iluminação em 2015:\n"
     ]
    },
    {
     "data": {
      "text/plain": [
       "Elétrica                  70.19\n",
       "Óleo, querosene ou gás     0.16\n",
       "Outra forma                0.10\n",
       "dtype: float64"
      ]
     },
     "execution_count": 426,
     "metadata": {},
     "output_type": "execute_result"
    }
   ],
   "source": [
    "print('Forma de iluminação em 2015:')\n",
    "N15_V0219 = (Nordeste2015.V0219.value_counts()/n09*100).round(decimals = 2)\n",
    "N15_V0219"
   ]
  },
  {
   "cell_type": "code",
   "execution_count": 427,
   "metadata": {
    "collapsed": false
   },
   "outputs": [
    {
     "data": {
      "text/html": [
       "<div>\n",
       "<table border=\"1\" class=\"dataframe\">\n",
       "  <thead>\n",
       "    <tr style=\"text-align: right;\">\n",
       "      <th></th>\n",
       "      <th>Unnamed: 0</th>\n",
       "      <th>V0101</th>\n",
       "      <th>UF</th>\n",
       "      <th>V0102</th>\n",
       "      <th>V0103</th>\n",
       "      <th>V0104</th>\n",
       "      <th>V0105</th>\n",
       "      <th>V0106</th>\n",
       "      <th>V0201</th>\n",
       "      <th>V0202</th>\n",
       "      <th>...</th>\n",
       "      <th>V2136</th>\n",
       "      <th>V2033</th>\n",
       "      <th>V2034</th>\n",
       "      <th>V2035</th>\n",
       "      <th>V2036</th>\n",
       "      <th>V2037</th>\n",
       "      <th>V2038</th>\n",
       "      <th>V2039</th>\n",
       "      <th>V2041</th>\n",
       "      <th>V9992</th>\n",
       "    </tr>\n",
       "  </thead>\n",
       "  <tbody>\n",
       "    <tr>\n",
       "      <th>18334</th>\n",
       "      <td>18334</td>\n",
       "      <td>2009</td>\n",
       "      <td>21</td>\n",
       "      <td>18</td>\n",
       "      <td>2</td>\n",
       "      <td>1</td>\n",
       "      <td>5</td>\n",
       "      <td>5</td>\n",
       "      <td>1</td>\n",
       "      <td>2</td>\n",
       "      <td>...</td>\n",
       "      <td>NaN</td>\n",
       "      <td>3</td>\n",
       "      <td>3</td>\n",
       "      <td>1</td>\n",
       "      <td>3</td>\n",
       "      <td>3</td>\n",
       "      <td>3</td>\n",
       "      <td>3</td>\n",
       "      <td>3</td>\n",
       "      <td>20120710</td>\n",
       "    </tr>\n",
       "    <tr>\n",
       "      <th>18337</th>\n",
       "      <td>18337</td>\n",
       "      <td>2009</td>\n",
       "      <td>21</td>\n",
       "      <td>18</td>\n",
       "      <td>5</td>\n",
       "      <td>1</td>\n",
       "      <td>6</td>\n",
       "      <td>6</td>\n",
       "      <td>1</td>\n",
       "      <td>2</td>\n",
       "      <td>...</td>\n",
       "      <td>NaN</td>\n",
       "      <td>3</td>\n",
       "      <td>3</td>\n",
       "      <td>1</td>\n",
       "      <td>3</td>\n",
       "      <td>3</td>\n",
       "      <td>3</td>\n",
       "      <td>3</td>\n",
       "      <td>3</td>\n",
       "      <td>20120710</td>\n",
       "    </tr>\n",
       "    <tr>\n",
       "      <th>18338</th>\n",
       "      <td>18338</td>\n",
       "      <td>2009</td>\n",
       "      <td>21</td>\n",
       "      <td>18</td>\n",
       "      <td>6</td>\n",
       "      <td>1</td>\n",
       "      <td>6</td>\n",
       "      <td>5</td>\n",
       "      <td>1</td>\n",
       "      <td>2</td>\n",
       "      <td>...</td>\n",
       "      <td>NaN</td>\n",
       "      <td>3</td>\n",
       "      <td>3</td>\n",
       "      <td>1</td>\n",
       "      <td>3</td>\n",
       "      <td>3</td>\n",
       "      <td>3</td>\n",
       "      <td>3</td>\n",
       "      <td>3</td>\n",
       "      <td>20120710</td>\n",
       "    </tr>\n",
       "    <tr>\n",
       "      <th>18360</th>\n",
       "      <td>18360</td>\n",
       "      <td>2009</td>\n",
       "      <td>21</td>\n",
       "      <td>26</td>\n",
       "      <td>7</td>\n",
       "      <td>1</td>\n",
       "      <td>4</td>\n",
       "      <td>3</td>\n",
       "      <td>1</td>\n",
       "      <td>2</td>\n",
       "      <td>...</td>\n",
       "      <td>NaN</td>\n",
       "      <td>3</td>\n",
       "      <td>3</td>\n",
       "      <td>1</td>\n",
       "      <td>3</td>\n",
       "      <td>3</td>\n",
       "      <td>3</td>\n",
       "      <td>3</td>\n",
       "      <td>3</td>\n",
       "      <td>20120710</td>\n",
       "    </tr>\n",
       "    <tr>\n",
       "      <th>18363</th>\n",
       "      <td>18363</td>\n",
       "      <td>2009</td>\n",
       "      <td>21</td>\n",
       "      <td>26</td>\n",
       "      <td>10</td>\n",
       "      <td>1</td>\n",
       "      <td>2</td>\n",
       "      <td>2</td>\n",
       "      <td>1</td>\n",
       "      <td>2</td>\n",
       "      <td>...</td>\n",
       "      <td>NaN</td>\n",
       "      <td>3</td>\n",
       "      <td>3</td>\n",
       "      <td>1</td>\n",
       "      <td>3</td>\n",
       "      <td>3</td>\n",
       "      <td>3</td>\n",
       "      <td>3</td>\n",
       "      <td>3</td>\n",
       "      <td>20120710</td>\n",
       "    </tr>\n",
       "  </tbody>\n",
       "</table>\n",
       "<p>5 rows × 98 columns</p>\n",
       "</div>"
      ],
      "text/plain": [
       "       Unnamed: 0  V0101  UF  V0102  V0103  V0104  V0105  V0106  V0201  V0202  \\\n",
       "18334       18334   2009  21     18      2      1      5      5      1      2   \n",
       "18337       18337   2009  21     18      5      1      6      6      1      2   \n",
       "18338       18338   2009  21     18      6      1      6      5      1      2   \n",
       "18360       18360   2009  21     26      7      1      4      3      1      2   \n",
       "18363       18363   2009  21     26     10      1      2      2      1      2   \n",
       "\n",
       "         ...     V2136  V2033  V2034  V2035  V2036  V2037  V2038  V2039 V2041  \\\n",
       "18334    ...       NaN      3      3      1      3      3      3      3     3   \n",
       "18337    ...       NaN      3      3      1      3      3      3      3     3   \n",
       "18338    ...       NaN      3      3      1      3      3      3      3     3   \n",
       "18360    ...       NaN      3      3      1      3      3      3      3     3   \n",
       "18363    ...       NaN      3      3      1      3      3      3      3     3   \n",
       "\n",
       "          V9992  \n",
       "18334  20120710  \n",
       "18337  20120710  \n",
       "18338  20120710  \n",
       "18360  20120710  \n",
       "18363  20120710  \n",
       "\n",
       "[5 rows x 98 columns]"
      ]
     },
     "execution_count": 427,
     "metadata": {},
     "output_type": "execute_result"
    }
   ],
   "source": [
    "#Separei apenas os domicílios com microcomputador no Nordeste em 2009\n",
    "Nordeste2009_micro = Nordeste2009[Nordeste2009.V0231 == 'Sim']\n",
    "Nordeste2009_micro.head()"
   ]
  },
  {
   "cell_type": "code",
   "execution_count": 428,
   "metadata": {
    "collapsed": true
   },
   "outputs": [],
   "source": [
    "#n_m indica o número de domicílios com microcomputador no Nordeste em 2009\n",
    "n_m = Nordeste2009_micro.shape[0]"
   ]
  },
  {
   "cell_type": "code",
   "execution_count": 429,
   "metadata": {
    "collapsed": false
   },
   "outputs": [
    {
     "name": "stdout",
     "output_type": "stream",
     "text": [
      "Frequência dos domicílios com microcomputador em 2009:\n"
     ]
    },
    {
     "data": {
      "text/plain": [
       "Não    61.64\n",
       "Sim    17.16\n",
       "dtype: float64"
      ]
     },
     "execution_count": 429,
     "metadata": {},
     "output_type": "execute_result"
    }
   ],
   "source": [
    "print('Frequência dos domicílios com microcomputador em 2009:')\n",
    "N09_V0231 = (Nordeste2009.V0231.value_counts()/n09*100).round(decimals = 2)\n",
    "N09_V0231"
   ]
  },
  {
   "cell_type": "code",
   "execution_count": 430,
   "metadata": {
    "collapsed": false
   },
   "outputs": [
    {
     "name": "stdout",
     "output_type": "stream",
     "text": [
      "Frequência dos domicílios que tem computador e acessam a internet em 2009:\n"
     ]
    },
    {
     "data": {
      "text/plain": [
       "Sim    79.43\n",
       "Não    20.57\n",
       "dtype: float64"
      ]
     },
     "execution_count": 430,
     "metadata": {},
     "output_type": "execute_result"
    }
   ],
   "source": [
    "print('Frequência dos domicílios que tem computador e acessam a internet em 2009:')\n",
    "N09_V0232 = (Nordeste2009_micro.V0232.value_counts()/n_m*100).round(decimals = 2)\n",
    "N09_V0232"
   ]
  },
  {
   "cell_type": "code",
   "execution_count": 431,
   "metadata": {
    "collapsed": false
   },
   "outputs": [
    {
     "name": "stdout",
     "output_type": "stream",
     "text": [
      "Frequência dos domicílios com microcomputador em 2015:\n"
     ]
    },
    {
     "data": {
      "text/plain": [
       "Não    49.77\n",
       "Sim    25.23\n",
       "dtype: float64"
      ]
     },
     "execution_count": 431,
     "metadata": {},
     "output_type": "execute_result"
    }
   ],
   "source": [
    "print('Frequência dos domicílios com microcomputador em 2015:')\n",
    "N15_V0231 = (Nordeste2015.V0231.value_counts()/n15*100).round(decimals = 2)\n",
    "N15_V0231"
   ]
  },
  {
   "cell_type": "code",
   "execution_count": 432,
   "metadata": {
    "collapsed": false
   },
   "outputs": [
    {
     "name": "stdout",
     "output_type": "stream",
     "text": [
      "Frequência dos domicílios que acessam a internet em 2015: \n"
     ]
    },
    {
     "data": {
      "text/plain": [
       "Não    38.06\n",
       "Sim    36.94\n",
       "dtype: float64"
      ]
     },
     "execution_count": 432,
     "metadata": {},
     "output_type": "execute_result"
    }
   ],
   "source": [
    "print('Frequência dos domicílios que acessam a internet em 2015: ')\n",
    "N15_V02322 = (Nordeste2015.V02322.value_counts()/n15*100).round(decimals = 2)\n",
    "N15_V02322"
   ]
  },
  {
   "cell_type": "markdown",
   "metadata": {},
   "source": [
    "Em questão de energia, todos os parâmetros diminuiram, devido a domicilios que tem como resposta \"Não aplicavel\". Já na internet, fica claro que o acesso à internet aumentou, isto porque em 2009, 17% dos domicílios tinham microcomputador e desses 17%, 80% acessavam a internet. Já em 2015, 37% dos domicilios tinham internet (tendo ou não microcomputador) e 25% tinham microcomputador."
   ]
  },
  {
   "cell_type": "markdown",
   "metadata": {},
   "source": [
    "## <font color='red'>Análise de renda nos domicílios do Nordeste</font>"
   ]
  },
  {
   "cell_type": "code",
   "execution_count": 433,
   "metadata": {
    "collapsed": false
   },
   "outputs": [
    {
     "name": "stdout",
     "output_type": "stream",
     "text": [
      "Rendimento médio mensal em 2009: \n"
     ]
    },
    {
     "data": {
      "text/plain": [
       "540"
      ]
     },
     "execution_count": 433,
     "metadata": {},
     "output_type": "execute_result"
    }
   ],
   "source": [
    "print('Rendimento médio mensal em 2009: ')\n",
    "int(Nordeste2009.V4621.mean())"
   ]
  },
  {
   "cell_type": "code",
   "execution_count": 434,
   "metadata": {
    "collapsed": false
   },
   "outputs": [
    {
     "name": "stdout",
     "output_type": "stream",
     "text": [
      "Rendimento médio mensal em 2015 \n"
     ]
    },
    {
     "data": {
      "text/plain": [
       "850"
      ]
     },
     "execution_count": 434,
     "metadata": {},
     "output_type": "execute_result"
    }
   ],
   "source": [
    "print('Rendimento médio mensal em 2015 ')\n",
    "int(Nordeste2015.V4621.mean())"
   ]
  },
  {
   "cell_type": "code",
   "execution_count": 435,
   "metadata": {
    "collapsed": false
   },
   "outputs": [
    {
     "data": {
      "text/plain": [
       "<matplotlib.text.Text at 0x1e391a52908>"
      ]
     },
     "execution_count": 435,
     "metadata": {},
     "output_type": "execute_result"
    },
    {
     "data": {
      "image/png": "[encoded data removed]",
      "text/plain": [
       "<matplotlib.figure.Figure at 0x1e391a22b38>"
      ]
     },
     "metadata": {},
     "output_type": "display_data"
    }
   ],
   "source": [
    "Nordeste2009.V4621.plot (kind='box', figsize=(10,10), title = 'Boxplot da renda dos domicílios do Nordeste em 2009')\n",
    "plt.axis([0,2,0,2000])\n",
    "plt.ylabel('Renda(em R$)')"
   ]
  },
  {
   "cell_type": "code",
   "execution_count": 436,
   "metadata": {
    "collapsed": false
   },
   "outputs": [
    {
     "data": {
      "text/plain": [
       "<matplotlib.text.Text at 0x1e391af4940>"
      ]
     },
     "execution_count": 436,
     "metadata": {},
     "output_type": "execute_result"
    },
    {
     "data": {
      "image/png": "[encoded data removed]",
      "text/plain": [
       "<matplotlib.figure.Figure at 0x1e391a5b240>"
      ]
     },
     "metadata": {},
     "output_type": "display_data"
    }
   ],
   "source": [
    "Nordeste2015.V4621.plot (kind='box', figsize=(10,10), title = 'Boxplot da renda dos domicílios do Nordeste em 2015')\n",
    "plt.axis([0,2,0,2000])\n",
    "plt.ylabel('Renda(em R$)')"
   ]
  },
  {
   "cell_type": "code",
   "execution_count": 437,
   "metadata": {
    "collapsed": false
   },
   "outputs": [],
   "source": [
    "faixa = arange(0, 2501 ,125)"
   ]
  },
  {
   "cell_type": "code",
   "execution_count": 438,
   "metadata": {
    "collapsed": false
   },
   "outputs": [
    {
     "data": {
      "text/plain": [
       "<matplotlib.axes._subplots.AxesSubplot at 0x1e395e66c50>"
      ]
     },
     "execution_count": 438,
     "metadata": {},
     "output_type": "execute_result"
    },
    {
     "data": {
      "image/png": "[encoded data removed]",
      "text/plain": [
       "<matplotlib.figure.Figure at 0x1e395e6deb8>"
      ]
     },
     "metadata": {},
     "output_type": "display_data"
    }
   ],
   "source": [
    "plot = Nordeste2009.V4621.plot.hist(bins =faixa)\n",
    "plot"
   ]
  },
  {
   "cell_type": "code",
   "execution_count": 439,
   "metadata": {
    "collapsed": false
   },
   "outputs": [
    {
     "data": {
      "text/plain": [
       "<matplotlib.axes._subplots.AxesSubplot at 0x1e3954b79b0>"
      ]
     },
     "execution_count": 439,
     "metadata": {},
     "output_type": "execute_result"
    },
    {
     "data": {
      "image/png": "[encoded data removed]",
      "text/plain": [
       "<matplotlib.figure.Figure at 0x1e396b4c898>"
      ]
     },
     "metadata": {},
     "output_type": "display_data"
    }
   ],
   "source": [
    "plot = Nordeste2015.V4621.plot.hist(bins =faixa)\n",
    "plot"
   ]
  },
  {
   "cell_type": "markdown",
   "metadata": {},
   "source": [
    "Fica claro que a renda melhorou entre os domicílios do Nordeste, tanto na média, como nos boxplot e histogramas feitos."
   ]
  },
  {
   "cell_type": "markdown",
   "metadata": {
    "collapsed": false
   },
   "source": [
    "___\n",
    "## Conclusão "
   ]
  },
  {
   "cell_type": "markdown",
   "metadata": {
    "collapsed": true
   },
   "source": [
    "A partir dos dados análisados, nota-se que a vida no Nordeste melhorou ligeiramente. Em saneamento básico não houve uma melhora expressiva, mas a renda melhorou bastante analisando tanto o boxplot como a simetría do histograma. O que pode-se concluir é que muita gente ainda vide em péssimas condições mas houve uma pequena evolução nesse tempo."
   ]
  },
  {
   "cell_type": "code",
   "execution_count": null,
   "metadata": {
    "collapsed": true
   },
   "outputs": [],
   "source": []
  }
 ],
 "metadata": {
  "anaconda-cloud": {},
  "kernelspec": {
   "display_name": "Python 3",
   "language": "python",
   "name": "python3"
  },
  "language_info": {
   "codemirror_mode": {
    "name": "ipython",
    "version": 3
   },
   "file_extension": ".py",
   "mimetype": "text/x-python",
   "name": "python",
   "nbconvert_exporter": "python",
   "pygments_lexer": "ipython3",
   "version": "3.5.2"
  }
 },
 "nbformat": 4,
 "nbformat_minor": 0
}
