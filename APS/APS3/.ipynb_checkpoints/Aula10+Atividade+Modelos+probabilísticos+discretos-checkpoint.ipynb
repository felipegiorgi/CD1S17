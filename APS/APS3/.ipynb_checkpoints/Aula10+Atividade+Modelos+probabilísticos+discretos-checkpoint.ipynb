{
 "cells": [
  {
   "cell_type": "markdown",
   "metadata": {},
   "source": [
    "___\n",
    "# Atividade: Modelos probabilísticos discretos e Dados\n",
    "___\n",
    "\n",
    "## Aula 10\n",
    "\n",
    "**Referência de Leitura:**\n",
    "1. Magalhães e Lima (7ª. Edição): Seções 3.2 e 3.3\n",
    "\n",
    "**Hoje:**\n",
    "1.\tDescrever modelos discretos quanto aos resultados teóricos.\n",
    "2.\tExplicar a utilização de modelos probabilísticos no contexto da literatura estatística.\n",
    "3.\tContrastar resultados teóricos e empíricos.\n",
    "4.\tFechamento do conteúdo.\n",
    "\n",
    "**Próxima aula:**\n",
    "1. Leitura prévia necessária: Magalhães e Lima (7ª. Edição): Seção 5.1 (pág. 137) e Seção 5.2 (pág. 146).\n",
    "___"
   ]
  },
  {
   "cell_type": "code",
   "execution_count": 2,
   "metadata": {
    "collapsed": true
   },
   "outputs": [],
   "source": [
    "%matplotlib inline\n",
    "import pandas as pd\n",
    "import matplotlib.pyplot as plt\n",
    "import math\n",
    "\n",
    "from scipy import stats #importa apenas as funções de estatísticas da biblioteca SciPy.\n",
    "import itertools #importante para gerar todos os resultados possíveis!!\n"
   ]
  },
  {
   "cell_type": "markdown",
   "metadata": {},
   "source": [
    "___\n",
    "## <font color='blue'>Exercício 1</font>\n",
    "\n",
    "Um resistor de 100K Ohms comprado na Santa Efigênia tem probabilidade de falha de 5%, segundo um fabricante ruim.\n",
    "\n",
    "Ainda, por suposição, admita que os resistores falhem de forma independente entre si.\n",
    "\n",
    "Um aluno de engenharia compra um pacote contendo $n$ resistores.\n",
    "\n",
    "1. Assuma $n=3$ e faça os itens a seguir.\n",
    "  1. Monte o espaço amostral que combine todos os resultados possíveis de Falha e não Falha desses $n$ resistores. Ainda, calcule a probabilidade de cada resultado do espaço amostral acontecer.\n",
    "  2. Se $Y$ representa o número de resistores que falham em um pacotinho com $n$ resistores, então construa a distribuição de probabilidades de $Y$.\n",
    "  3. Calcule a média e o desvio padrão de $Y$. Interprete os resultados.\n",
    "  4. Utilizando o modelo probabilístico da distribuição Binomial, encontre a distribuição de probabilidades de cada possível valor de $Y$. Calcule também $E(X)$ e $Var(X)$. Compare com as distribuições de probabilidades obtidas nos itens anteriores e discuta porque esses valores são iguais ou diferentes!\n",
    "   \n",
    "2. Assuma $n=7$ e repita os itens A) a D) anteriores. No caso de $n=7$ ou maiores quantidades de resistores em um pacotinho, qual a viabilidade de construir a distribuição de probabilidades do número de resistores com defeitos quando $n$ não é pequeno seguindo os itens de A) a C)?\n",
    "    \n",
    "> \n",
    "\n",
    "> **DISTRIBUIÇÃO BINOMIAL - TEORIA:**\n",
    "\n",
    "> É responsável por modelar uma variável $Y$ definida pelo Número de sucessos em $n$ tentativas, cuja probabilidade de sucesso é dada por $p$. Assim, dizemos que $Y$~$Bin(n,p)$ e lê-se: $Y$ segue uma distribuição binomial com $n$ tentativas e $p$ como probabilidade de sucesso. \n",
    "\n",
    "> A função de probabilidade nesse caso é dada por:\n",
    "$P(Y=y)=\\left(\n",
    "\\begin{array}{c}\n",
    "    n \\\\\n",
    "    y\n",
    "\\end{array}\\right) p^y (1-p)^{(n-y)}$\n",
    "\n",
    "> Para um experimento ter as probabilidade dos números de sucessos modeladas por uma distribuição Binomial, o mesmo precisa ter as seguintes propriedades:\n",
    "* é uma contagem de $n$ repetições (ou tentativas ou ensaios) idênticas;\n",
    "* cada repetição tem apenas 2 resultados possíveis: um é denominado sucesso e o outro, fracasso;\n",
    "* a probabilidade de sucesso para cada ensaio é denominada $p$ e será constante em cada repetição. Então, a probabilidade de fracasso $(1-p)$ também não varia de tentativa para tentativa;\n",
    "* As tentativas são independentes.\n",
    "\n",
    "\n",
    "> **DISTRIBUIÇÃO BINOMIAL - PYTHON:** <sup> [https://en.wikipedia.org/wiki/SciPy]\n",
    "\n",
    "> Algumas funções úteis para desenvolver seu código: <sup> [http://docs.scipy.org/doc/scipy-0.16.1/reference/generated/scipy.stats.binom.html]\n",
    "* $P(Y=y)$: `stats.binom.pmf(y, n, p)`\n",
    "* $P(Y\\leq y)$: `stats.binom.cdf(y, n, p)`\n",
    "* $E(Y)$ e $Var(Y)$: `stats.binom.stats(n, p, moments='mv')`\n"
   ]
  },
  {
   "cell_type": "code",
   "execution_count": 3,
   "metadata": {
    "collapsed": false
   },
   "outputs": [],
   "source": [
    "#item 1\n",
    "n=3\n",
    "#F=Funcionar N=Não Funcionar\n",
    "possibilidades = [\"F\", \"N\"]\n",
    "prob = {\"F\":0.95, \"N\":0.05}\n",
    "arranjos = itertools.product(possibilidades, repeat = n)\n",
    "espaço_amostral = list(arranjos)"
   ]
  },
  {
   "cell_type": "code",
   "execution_count": 4,
   "metadata": {
    "collapsed": false
   },
   "outputs": [
    {
     "data": {
      "text/plain": [
       "[('F', 'F', 'F'),\n",
       " ('F', 'F', 'N'),\n",
       " ('F', 'N', 'F'),\n",
       " ('F', 'N', 'N'),\n",
       " ('N', 'F', 'F'),\n",
       " ('N', 'F', 'N'),\n",
       " ('N', 'N', 'F'),\n",
       " ('N', 'N', 'N')]"
      ]
     },
     "execution_count": 4,
     "metadata": {},
     "output_type": "execute_result"
    }
   ],
   "source": [
    "espaço_amostral"
   ]
  },
  {
   "cell_type": "code",
   "execution_count": 5,
   "metadata": {
    "collapsed": false
   },
   "outputs": [
    {
     "name": "stdout",
     "output_type": "stream",
     "text": [
      "Probabilidade de  ('F', 'F', 'F')  é igual a  0.85737\n",
      "Probabilidade de  ('F', 'F', 'N')  é igual a  0.04512\n",
      "Probabilidade de  ('F', 'N', 'F')  é igual a  0.04512\n",
      "Probabilidade de  ('F', 'N', 'N')  é igual a  0.00238\n",
      "Probabilidade de  ('N', 'F', 'F')  é igual a  0.04512\n",
      "Probabilidade de  ('N', 'F', 'N')  é igual a  0.00238\n",
      "Probabilidade de  ('N', 'N', 'F')  é igual a  0.00238\n",
      "Probabilidade de  ('N', 'N', 'N')  é igual a  0.00013\n"
     ]
    }
   ],
   "source": [
    "prob_linhas = []\n",
    "\n",
    "for res in espaço_amostral:\n",
    "    p = 1.0\n",
    "    for e in res:\n",
    "        p*=prob[e]\n",
    "    prob_linhas.append(p)\n",
    "    print(\"Probabilidade de \",res,\" é igual a \",\"%3.5f\"%p)"
   ]
  },
  {
   "cell_type": "code",
   "execution_count": 6,
   "metadata": {
    "collapsed": true
   },
   "outputs": [],
   "source": [
    "valores_Y = {}\n",
    "for i in range(len(espaço_amostral)):\n",
    "    y = espaço_amostral[i].count(\"N\")\n",
    "    if y in valores_Y:\n",
    "        valores_Y[y] += prob_linhas[i]\n",
    "    else:\n",
    "        valores_Y[y] = prob_linhas[i]"
   ]
  },
  {
   "cell_type": "code",
   "execution_count": 7,
   "metadata": {
    "collapsed": false
   },
   "outputs": [
    {
     "name": "stdout",
     "output_type": "stream",
     "text": [
      "Distribuição de probabilidades da variável aleatória (Y) - número de falhas\n",
      "\n",
      "Para Y = 0  Probabilidade 0.85737 \n",
      "Para Y = 1  Probabilidade 0.13537 \n",
      "Para Y = 2  Probabilidade 0.00713 \n",
      "Para Y = 3  Probabilidade 0.00013 \n"
     ]
    }
   ],
   "source": [
    "print(\"Distribuição de probabilidades da variável aleatória (Y) - número de falhas\")\n",
    "print('')\n",
    "for y in valores_Y:\n",
    "    print(\"Para Y =\", y, \" Probabilidade\", \"%6.5f \"%valores_Y[y])"
   ]
  },
  {
   "cell_type": "code",
   "execution_count": 8,
   "metadata": {
    "collapsed": false
   },
   "outputs": [
    {
     "name": "stdout",
     "output_type": "stream",
     "text": [
      "A media é de 0.15000\n"
     ]
    }
   ],
   "source": [
    "media = 0\n",
    "for i in valores_Y:\n",
    "    media += i*valores_Y[i]\n",
    "print('A media é de', \"%6.5f\"%media)"
   ]
  },
  {
   "cell_type": "code",
   "execution_count": 9,
   "metadata": {
    "collapsed": false
   },
   "outputs": [
    {
     "name": "stdout",
     "output_type": "stream",
     "text": [
      "O desvio padrão é de 0.37749\n"
     ]
    }
   ],
   "source": [
    "variancia = 0\n",
    "for i in valores_Y:\n",
    "    variancia += ((i - media)**2)*valores_Y[i]\n",
    "desvio_padrao = math.sqrt(variancia)\n",
    "print('O desvio padrão é de', \"%6.5f\"%desvio_padrao)"
   ]
  },
  {
   "cell_type": "code",
   "execution_count": 10,
   "metadata": {
    "collapsed": false
   },
   "outputs": [
    {
     "data": {
      "text/plain": [
       "(array(0.15000000000000002), array(0.14250000000000002))"
      ]
     },
     "execution_count": 10,
     "metadata": {},
     "output_type": "execute_result"
    }
   ],
   "source": [
    " stats.binom.stats(3, 0.05, moments='mv')"
   ]
  },
  {
   "cell_type": "code",
   "execution_count": 11,
   "metadata": {
    "collapsed": true
   },
   "outputs": [],
   "source": [
    "n=7\n",
    "#F=Funcionar N=Não Funcionar\n",
    "possibilidades = [\"F\", \"N\"]\n",
    "prob = {\"F\":0.95, \"N\":0.05}\n",
    "arranjos = itertools.product(possibilidades, repeat = n)\n",
    "espaço_amostral = list(arranjos)"
   ]
  },
  {
   "cell_type": "code",
   "execution_count": 12,
   "metadata": {
    "collapsed": false
   },
   "outputs": [
    {
     "data": {
      "text/plain": [
       "[('F', 'F', 'F', 'F', 'F', 'F', 'F'),\n",
       " ('F', 'F', 'F', 'F', 'F', 'F', 'N'),\n",
       " ('F', 'F', 'F', 'F', 'F', 'N', 'F'),\n",
       " ('F', 'F', 'F', 'F', 'F', 'N', 'N'),\n",
       " ('F', 'F', 'F', 'F', 'N', 'F', 'F'),\n",
       " ('F', 'F', 'F', 'F', 'N', 'F', 'N'),\n",
       " ('F', 'F', 'F', 'F', 'N', 'N', 'F'),\n",
       " ('F', 'F', 'F', 'F', 'N', 'N', 'N'),\n",
       " ('F', 'F', 'F', 'N', 'F', 'F', 'F'),\n",
       " ('F', 'F', 'F', 'N', 'F', 'F', 'N'),\n",
       " ('F', 'F', 'F', 'N', 'F', 'N', 'F'),\n",
       " ('F', 'F', 'F', 'N', 'F', 'N', 'N'),\n",
       " ('F', 'F', 'F', 'N', 'N', 'F', 'F'),\n",
       " ('F', 'F', 'F', 'N', 'N', 'F', 'N'),\n",
       " ('F', 'F', 'F', 'N', 'N', 'N', 'F'),\n",
       " ('F', 'F', 'F', 'N', 'N', 'N', 'N'),\n",
       " ('F', 'F', 'N', 'F', 'F', 'F', 'F'),\n",
       " ('F', 'F', 'N', 'F', 'F', 'F', 'N'),\n",
       " ('F', 'F', 'N', 'F', 'F', 'N', 'F'),\n",
       " ('F', 'F', 'N', 'F', 'F', 'N', 'N'),\n",
       " ('F', 'F', 'N', 'F', 'N', 'F', 'F'),\n",
       " ('F', 'F', 'N', 'F', 'N', 'F', 'N'),\n",
       " ('F', 'F', 'N', 'F', 'N', 'N', 'F'),\n",
       " ('F', 'F', 'N', 'F', 'N', 'N', 'N'),\n",
       " ('F', 'F', 'N', 'N', 'F', 'F', 'F'),\n",
       " ('F', 'F', 'N', 'N', 'F', 'F', 'N'),\n",
       " ('F', 'F', 'N', 'N', 'F', 'N', 'F'),\n",
       " ('F', 'F', 'N', 'N', 'F', 'N', 'N'),\n",
       " ('F', 'F', 'N', 'N', 'N', 'F', 'F'),\n",
       " ('F', 'F', 'N', 'N', 'N', 'F', 'N'),\n",
       " ('F', 'F', 'N', 'N', 'N', 'N', 'F'),\n",
       " ('F', 'F', 'N', 'N', 'N', 'N', 'N'),\n",
       " ('F', 'N', 'F', 'F', 'F', 'F', 'F'),\n",
       " ('F', 'N', 'F', 'F', 'F', 'F', 'N'),\n",
       " ('F', 'N', 'F', 'F', 'F', 'N', 'F'),\n",
       " ('F', 'N', 'F', 'F', 'F', 'N', 'N'),\n",
       " ('F', 'N', 'F', 'F', 'N', 'F', 'F'),\n",
       " ('F', 'N', 'F', 'F', 'N', 'F', 'N'),\n",
       " ('F', 'N', 'F', 'F', 'N', 'N', 'F'),\n",
       " ('F', 'N', 'F', 'F', 'N', 'N', 'N'),\n",
       " ('F', 'N', 'F', 'N', 'F', 'F', 'F'),\n",
       " ('F', 'N', 'F', 'N', 'F', 'F', 'N'),\n",
       " ('F', 'N', 'F', 'N', 'F', 'N', 'F'),\n",
       " ('F', 'N', 'F', 'N', 'F', 'N', 'N'),\n",
       " ('F', 'N', 'F', 'N', 'N', 'F', 'F'),\n",
       " ('F', 'N', 'F', 'N', 'N', 'F', 'N'),\n",
       " ('F', 'N', 'F', 'N', 'N', 'N', 'F'),\n",
       " ('F', 'N', 'F', 'N', 'N', 'N', 'N'),\n",
       " ('F', 'N', 'N', 'F', 'F', 'F', 'F'),\n",
       " ('F', 'N', 'N', 'F', 'F', 'F', 'N'),\n",
       " ('F', 'N', 'N', 'F', 'F', 'N', 'F'),\n",
       " ('F', 'N', 'N', 'F', 'F', 'N', 'N'),\n",
       " ('F', 'N', 'N', 'F', 'N', 'F', 'F'),\n",
       " ('F', 'N', 'N', 'F', 'N', 'F', 'N'),\n",
       " ('F', 'N', 'N', 'F', 'N', 'N', 'F'),\n",
       " ('F', 'N', 'N', 'F', 'N', 'N', 'N'),\n",
       " ('F', 'N', 'N', 'N', 'F', 'F', 'F'),\n",
       " ('F', 'N', 'N', 'N', 'F', 'F', 'N'),\n",
       " ('F', 'N', 'N', 'N', 'F', 'N', 'F'),\n",
       " ('F', 'N', 'N', 'N', 'F', 'N', 'N'),\n",
       " ('F', 'N', 'N', 'N', 'N', 'F', 'F'),\n",
       " ('F', 'N', 'N', 'N', 'N', 'F', 'N'),\n",
       " ('F', 'N', 'N', 'N', 'N', 'N', 'F'),\n",
       " ('F', 'N', 'N', 'N', 'N', 'N', 'N'),\n",
       " ('N', 'F', 'F', 'F', 'F', 'F', 'F'),\n",
       " ('N', 'F', 'F', 'F', 'F', 'F', 'N'),\n",
       " ('N', 'F', 'F', 'F', 'F', 'N', 'F'),\n",
       " ('N', 'F', 'F', 'F', 'F', 'N', 'N'),\n",
       " ('N', 'F', 'F', 'F', 'N', 'F', 'F'),\n",
       " ('N', 'F', 'F', 'F', 'N', 'F', 'N'),\n",
       " ('N', 'F', 'F', 'F', 'N', 'N', 'F'),\n",
       " ('N', 'F', 'F', 'F', 'N', 'N', 'N'),\n",
       " ('N', 'F', 'F', 'N', 'F', 'F', 'F'),\n",
       " ('N', 'F', 'F', 'N', 'F', 'F', 'N'),\n",
       " ('N', 'F', 'F', 'N', 'F', 'N', 'F'),\n",
       " ('N', 'F', 'F', 'N', 'F', 'N', 'N'),\n",
       " ('N', 'F', 'F', 'N', 'N', 'F', 'F'),\n",
       " ('N', 'F', 'F', 'N', 'N', 'F', 'N'),\n",
       " ('N', 'F', 'F', 'N', 'N', 'N', 'F'),\n",
       " ('N', 'F', 'F', 'N', 'N', 'N', 'N'),\n",
       " ('N', 'F', 'N', 'F', 'F', 'F', 'F'),\n",
       " ('N', 'F', 'N', 'F', 'F', 'F', 'N'),\n",
       " ('N', 'F', 'N', 'F', 'F', 'N', 'F'),\n",
       " ('N', 'F', 'N', 'F', 'F', 'N', 'N'),\n",
       " ('N', 'F', 'N', 'F', 'N', 'F', 'F'),\n",
       " ('N', 'F', 'N', 'F', 'N', 'F', 'N'),\n",
       " ('N', 'F', 'N', 'F', 'N', 'N', 'F'),\n",
       " ('N', 'F', 'N', 'F', 'N', 'N', 'N'),\n",
       " ('N', 'F', 'N', 'N', 'F', 'F', 'F'),\n",
       " ('N', 'F', 'N', 'N', 'F', 'F', 'N'),\n",
       " ('N', 'F', 'N', 'N', 'F', 'N', 'F'),\n",
       " ('N', 'F', 'N', 'N', 'F', 'N', 'N'),\n",
       " ('N', 'F', 'N', 'N', 'N', 'F', 'F'),\n",
       " ('N', 'F', 'N', 'N', 'N', 'F', 'N'),\n",
       " ('N', 'F', 'N', 'N', 'N', 'N', 'F'),\n",
       " ('N', 'F', 'N', 'N', 'N', 'N', 'N'),\n",
       " ('N', 'N', 'F', 'F', 'F', 'F', 'F'),\n",
       " ('N', 'N', 'F', 'F', 'F', 'F', 'N'),\n",
       " ('N', 'N', 'F', 'F', 'F', 'N', 'F'),\n",
       " ('N', 'N', 'F', 'F', 'F', 'N', 'N'),\n",
       " ('N', 'N', 'F', 'F', 'N', 'F', 'F'),\n",
       " ('N', 'N', 'F', 'F', 'N', 'F', 'N'),\n",
       " ('N', 'N', 'F', 'F', 'N', 'N', 'F'),\n",
       " ('N', 'N', 'F', 'F', 'N', 'N', 'N'),\n",
       " ('N', 'N', 'F', 'N', 'F', 'F', 'F'),\n",
       " ('N', 'N', 'F', 'N', 'F', 'F', 'N'),\n",
       " ('N', 'N', 'F', 'N', 'F', 'N', 'F'),\n",
       " ('N', 'N', 'F', 'N', 'F', 'N', 'N'),\n",
       " ('N', 'N', 'F', 'N', 'N', 'F', 'F'),\n",
       " ('N', 'N', 'F', 'N', 'N', 'F', 'N'),\n",
       " ('N', 'N', 'F', 'N', 'N', 'N', 'F'),\n",
       " ('N', 'N', 'F', 'N', 'N', 'N', 'N'),\n",
       " ('N', 'N', 'N', 'F', 'F', 'F', 'F'),\n",
       " ('N', 'N', 'N', 'F', 'F', 'F', 'N'),\n",
       " ('N', 'N', 'N', 'F', 'F', 'N', 'F'),\n",
       " ('N', 'N', 'N', 'F', 'F', 'N', 'N'),\n",
       " ('N', 'N', 'N', 'F', 'N', 'F', 'F'),\n",
       " ('N', 'N', 'N', 'F', 'N', 'F', 'N'),\n",
       " ('N', 'N', 'N', 'F', 'N', 'N', 'F'),\n",
       " ('N', 'N', 'N', 'F', 'N', 'N', 'N'),\n",
       " ('N', 'N', 'N', 'N', 'F', 'F', 'F'),\n",
       " ('N', 'N', 'N', 'N', 'F', 'F', 'N'),\n",
       " ('N', 'N', 'N', 'N', 'F', 'N', 'F'),\n",
       " ('N', 'N', 'N', 'N', 'F', 'N', 'N'),\n",
       " ('N', 'N', 'N', 'N', 'N', 'F', 'F'),\n",
       " ('N', 'N', 'N', 'N', 'N', 'F', 'N'),\n",
       " ('N', 'N', 'N', 'N', 'N', 'N', 'F'),\n",
       " ('N', 'N', 'N', 'N', 'N', 'N', 'N')]"
      ]
     },
     "execution_count": 12,
     "metadata": {},
     "output_type": "execute_result"
    }
   ],
   "source": [
    "espaço_amostral"
   ]
  },
  {
   "cell_type": "code",
   "execution_count": 13,
   "metadata": {
    "collapsed": false
   },
   "outputs": [
    {
     "name": "stdout",
     "output_type": "stream",
     "text": [
      "Probabilidade de  ('F', 'F', 'F', 'F', 'F', 'F', 'F')  é igual a  0.69834\n",
      "Probabilidade de  ('F', 'F', 'F', 'F', 'F', 'F', 'N')  é igual a  0.03675\n",
      "Probabilidade de  ('F', 'F', 'F', 'F', 'F', 'N', 'F')  é igual a  0.03675\n",
      "Probabilidade de  ('F', 'F', 'F', 'F', 'F', 'N', 'N')  é igual a  0.00193\n",
      "Probabilidade de  ('F', 'F', 'F', 'F', 'N', 'F', 'F')  é igual a  0.03675\n",
      "Probabilidade de  ('F', 'F', 'F', 'F', 'N', 'F', 'N')  é igual a  0.00193\n",
      "Probabilidade de  ('F', 'F', 'F', 'F', 'N', 'N', 'F')  é igual a  0.00193\n",
      "Probabilidade de  ('F', 'F', 'F', 'F', 'N', 'N', 'N')  é igual a  0.00010\n",
      "Probabilidade de  ('F', 'F', 'F', 'N', 'F', 'F', 'F')  é igual a  0.03675\n",
      "Probabilidade de  ('F', 'F', 'F', 'N', 'F', 'F', 'N')  é igual a  0.00193\n",
      "Probabilidade de  ('F', 'F', 'F', 'N', 'F', 'N', 'F')  é igual a  0.00193\n",
      "Probabilidade de  ('F', 'F', 'F', 'N', 'F', 'N', 'N')  é igual a  0.00010\n",
      "Probabilidade de  ('F', 'F', 'F', 'N', 'N', 'F', 'F')  é igual a  0.00193\n",
      "Probabilidade de  ('F', 'F', 'F', 'N', 'N', 'F', 'N')  é igual a  0.00010\n",
      "Probabilidade de  ('F', 'F', 'F', 'N', 'N', 'N', 'F')  é igual a  0.00010\n",
      "Probabilidade de  ('F', 'F', 'F', 'N', 'N', 'N', 'N')  é igual a  0.00001\n",
      "Probabilidade de  ('F', 'F', 'N', 'F', 'F', 'F', 'F')  é igual a  0.03675\n",
      "Probabilidade de  ('F', 'F', 'N', 'F', 'F', 'F', 'N')  é igual a  0.00193\n",
      "Probabilidade de  ('F', 'F', 'N', 'F', 'F', 'N', 'F')  é igual a  0.00193\n",
      "Probabilidade de  ('F', 'F', 'N', 'F', 'F', 'N', 'N')  é igual a  0.00010\n",
      "Probabilidade de  ('F', 'F', 'N', 'F', 'N', 'F', 'F')  é igual a  0.00193\n",
      "Probabilidade de  ('F', 'F', 'N', 'F', 'N', 'F', 'N')  é igual a  0.00010\n",
      "Probabilidade de  ('F', 'F', 'N', 'F', 'N', 'N', 'F')  é igual a  0.00010\n",
      "Probabilidade de  ('F', 'F', 'N', 'F', 'N', 'N', 'N')  é igual a  0.00001\n",
      "Probabilidade de  ('F', 'F', 'N', 'N', 'F', 'F', 'F')  é igual a  0.00193\n",
      "Probabilidade de  ('F', 'F', 'N', 'N', 'F', 'F', 'N')  é igual a  0.00010\n",
      "Probabilidade de  ('F', 'F', 'N', 'N', 'F', 'N', 'F')  é igual a  0.00010\n",
      "Probabilidade de  ('F', 'F', 'N', 'N', 'F', 'N', 'N')  é igual a  0.00001\n",
      "Probabilidade de  ('F', 'F', 'N', 'N', 'N', 'F', 'F')  é igual a  0.00010\n",
      "Probabilidade de  ('F', 'F', 'N', 'N', 'N', 'F', 'N')  é igual a  0.00001\n",
      "Probabilidade de  ('F', 'F', 'N', 'N', 'N', 'N', 'F')  é igual a  0.00001\n",
      "Probabilidade de  ('F', 'F', 'N', 'N', 'N', 'N', 'N')  é igual a  0.00000\n",
      "Probabilidade de  ('F', 'N', 'F', 'F', 'F', 'F', 'F')  é igual a  0.03675\n",
      "Probabilidade de  ('F', 'N', 'F', 'F', 'F', 'F', 'N')  é igual a  0.00193\n",
      "Probabilidade de  ('F', 'N', 'F', 'F', 'F', 'N', 'F')  é igual a  0.00193\n",
      "Probabilidade de  ('F', 'N', 'F', 'F', 'F', 'N', 'N')  é igual a  0.00010\n",
      "Probabilidade de  ('F', 'N', 'F', 'F', 'N', 'F', 'F')  é igual a  0.00193\n",
      "Probabilidade de  ('F', 'N', 'F', 'F', 'N', 'F', 'N')  é igual a  0.00010\n",
      "Probabilidade de  ('F', 'N', 'F', 'F', 'N', 'N', 'F')  é igual a  0.00010\n",
      "Probabilidade de  ('F', 'N', 'F', 'F', 'N', 'N', 'N')  é igual a  0.00001\n",
      "Probabilidade de  ('F', 'N', 'F', 'N', 'F', 'F', 'F')  é igual a  0.00193\n",
      "Probabilidade de  ('F', 'N', 'F', 'N', 'F', 'F', 'N')  é igual a  0.00010\n",
      "Probabilidade de  ('F', 'N', 'F', 'N', 'F', 'N', 'F')  é igual a  0.00010\n",
      "Probabilidade de  ('F', 'N', 'F', 'N', 'F', 'N', 'N')  é igual a  0.00001\n",
      "Probabilidade de  ('F', 'N', 'F', 'N', 'N', 'F', 'F')  é igual a  0.00010\n",
      "Probabilidade de  ('F', 'N', 'F', 'N', 'N', 'F', 'N')  é igual a  0.00001\n",
      "Probabilidade de  ('F', 'N', 'F', 'N', 'N', 'N', 'F')  é igual a  0.00001\n",
      "Probabilidade de  ('F', 'N', 'F', 'N', 'N', 'N', 'N')  é igual a  0.00000\n",
      "Probabilidade de  ('F', 'N', 'N', 'F', 'F', 'F', 'F')  é igual a  0.00193\n",
      "Probabilidade de  ('F', 'N', 'N', 'F', 'F', 'F', 'N')  é igual a  0.00010\n",
      "Probabilidade de  ('F', 'N', 'N', 'F', 'F', 'N', 'F')  é igual a  0.00010\n",
      "Probabilidade de  ('F', 'N', 'N', 'F', 'F', 'N', 'N')  é igual a  0.00001\n",
      "Probabilidade de  ('F', 'N', 'N', 'F', 'N', 'F', 'F')  é igual a  0.00010\n",
      "Probabilidade de  ('F', 'N', 'N', 'F', 'N', 'F', 'N')  é igual a  0.00001\n",
      "Probabilidade de  ('F', 'N', 'N', 'F', 'N', 'N', 'F')  é igual a  0.00001\n",
      "Probabilidade de  ('F', 'N', 'N', 'F', 'N', 'N', 'N')  é igual a  0.00000\n",
      "Probabilidade de  ('F', 'N', 'N', 'N', 'F', 'F', 'F')  é igual a  0.00010\n",
      "Probabilidade de  ('F', 'N', 'N', 'N', 'F', 'F', 'N')  é igual a  0.00001\n",
      "Probabilidade de  ('F', 'N', 'N', 'N', 'F', 'N', 'F')  é igual a  0.00001\n",
      "Probabilidade de  ('F', 'N', 'N', 'N', 'F', 'N', 'N')  é igual a  0.00000\n",
      "Probabilidade de  ('F', 'N', 'N', 'N', 'N', 'F', 'F')  é igual a  0.00001\n",
      "Probabilidade de  ('F', 'N', 'N', 'N', 'N', 'F', 'N')  é igual a  0.00000\n",
      "Probabilidade de  ('F', 'N', 'N', 'N', 'N', 'N', 'F')  é igual a  0.00000\n",
      "Probabilidade de  ('F', 'N', 'N', 'N', 'N', 'N', 'N')  é igual a  0.00000\n",
      "Probabilidade de  ('N', 'F', 'F', 'F', 'F', 'F', 'F')  é igual a  0.03675\n",
      "Probabilidade de  ('N', 'F', 'F', 'F', 'F', 'F', 'N')  é igual a  0.00193\n",
      "Probabilidade de  ('N', 'F', 'F', 'F', 'F', 'N', 'F')  é igual a  0.00193\n",
      "Probabilidade de  ('N', 'F', 'F', 'F', 'F', 'N', 'N')  é igual a  0.00010\n",
      "Probabilidade de  ('N', 'F', 'F', 'F', 'N', 'F', 'F')  é igual a  0.00193\n",
      "Probabilidade de  ('N', 'F', 'F', 'F', 'N', 'F', 'N')  é igual a  0.00010\n",
      "Probabilidade de  ('N', 'F', 'F', 'F', 'N', 'N', 'F')  é igual a  0.00010\n",
      "Probabilidade de  ('N', 'F', 'F', 'F', 'N', 'N', 'N')  é igual a  0.00001\n",
      "Probabilidade de  ('N', 'F', 'F', 'N', 'F', 'F', 'F')  é igual a  0.00193\n",
      "Probabilidade de  ('N', 'F', 'F', 'N', 'F', 'F', 'N')  é igual a  0.00010\n",
      "Probabilidade de  ('N', 'F', 'F', 'N', 'F', 'N', 'F')  é igual a  0.00010\n",
      "Probabilidade de  ('N', 'F', 'F', 'N', 'F', 'N', 'N')  é igual a  0.00001\n",
      "Probabilidade de  ('N', 'F', 'F', 'N', 'N', 'F', 'F')  é igual a  0.00010\n",
      "Probabilidade de  ('N', 'F', 'F', 'N', 'N', 'F', 'N')  é igual a  0.00001\n",
      "Probabilidade de  ('N', 'F', 'F', 'N', 'N', 'N', 'F')  é igual a  0.00001\n",
      "Probabilidade de  ('N', 'F', 'F', 'N', 'N', 'N', 'N')  é igual a  0.00000\n",
      "Probabilidade de  ('N', 'F', 'N', 'F', 'F', 'F', 'F')  é igual a  0.00193\n",
      "Probabilidade de  ('N', 'F', 'N', 'F', 'F', 'F', 'N')  é igual a  0.00010\n",
      "Probabilidade de  ('N', 'F', 'N', 'F', 'F', 'N', 'F')  é igual a  0.00010\n",
      "Probabilidade de  ('N', 'F', 'N', 'F', 'F', 'N', 'N')  é igual a  0.00001\n",
      "Probabilidade de  ('N', 'F', 'N', 'F', 'N', 'F', 'F')  é igual a  0.00010\n",
      "Probabilidade de  ('N', 'F', 'N', 'F', 'N', 'F', 'N')  é igual a  0.00001\n",
      "Probabilidade de  ('N', 'F', 'N', 'F', 'N', 'N', 'F')  é igual a  0.00001\n",
      "Probabilidade de  ('N', 'F', 'N', 'F', 'N', 'N', 'N')  é igual a  0.00000\n",
      "Probabilidade de  ('N', 'F', 'N', 'N', 'F', 'F', 'F')  é igual a  0.00010\n",
      "Probabilidade de  ('N', 'F', 'N', 'N', 'F', 'F', 'N')  é igual a  0.00001\n",
      "Probabilidade de  ('N', 'F', 'N', 'N', 'F', 'N', 'F')  é igual a  0.00001\n",
      "Probabilidade de  ('N', 'F', 'N', 'N', 'F', 'N', 'N')  é igual a  0.00000\n",
      "Probabilidade de  ('N', 'F', 'N', 'N', 'N', 'F', 'F')  é igual a  0.00001\n",
      "Probabilidade de  ('N', 'F', 'N', 'N', 'N', 'F', 'N')  é igual a  0.00000\n",
      "Probabilidade de  ('N', 'F', 'N', 'N', 'N', 'N', 'F')  é igual a  0.00000\n",
      "Probabilidade de  ('N', 'F', 'N', 'N', 'N', 'N', 'N')  é igual a  0.00000\n",
      "Probabilidade de  ('N', 'N', 'F', 'F', 'F', 'F', 'F')  é igual a  0.00193\n",
      "Probabilidade de  ('N', 'N', 'F', 'F', 'F', 'F', 'N')  é igual a  0.00010\n",
      "Probabilidade de  ('N', 'N', 'F', 'F', 'F', 'N', 'F')  é igual a  0.00010\n",
      "Probabilidade de  ('N', 'N', 'F', 'F', 'F', 'N', 'N')  é igual a  0.00001\n",
      "Probabilidade de  ('N', 'N', 'F', 'F', 'N', 'F', 'F')  é igual a  0.00010\n",
      "Probabilidade de  ('N', 'N', 'F', 'F', 'N', 'F', 'N')  é igual a  0.00001\n",
      "Probabilidade de  ('N', 'N', 'F', 'F', 'N', 'N', 'F')  é igual a  0.00001\n",
      "Probabilidade de  ('N', 'N', 'F', 'F', 'N', 'N', 'N')  é igual a  0.00000\n",
      "Probabilidade de  ('N', 'N', 'F', 'N', 'F', 'F', 'F')  é igual a  0.00010\n",
      "Probabilidade de  ('N', 'N', 'F', 'N', 'F', 'F', 'N')  é igual a  0.00001\n",
      "Probabilidade de  ('N', 'N', 'F', 'N', 'F', 'N', 'F')  é igual a  0.00001\n",
      "Probabilidade de  ('N', 'N', 'F', 'N', 'F', 'N', 'N')  é igual a  0.00000\n",
      "Probabilidade de  ('N', 'N', 'F', 'N', 'N', 'F', 'F')  é igual a  0.00001\n",
      "Probabilidade de  ('N', 'N', 'F', 'N', 'N', 'F', 'N')  é igual a  0.00000\n",
      "Probabilidade de  ('N', 'N', 'F', 'N', 'N', 'N', 'F')  é igual a  0.00000\n",
      "Probabilidade de  ('N', 'N', 'F', 'N', 'N', 'N', 'N')  é igual a  0.00000\n",
      "Probabilidade de  ('N', 'N', 'N', 'F', 'F', 'F', 'F')  é igual a  0.00010\n",
      "Probabilidade de  ('N', 'N', 'N', 'F', 'F', 'F', 'N')  é igual a  0.00001\n",
      "Probabilidade de  ('N', 'N', 'N', 'F', 'F', 'N', 'F')  é igual a  0.00001\n",
      "Probabilidade de  ('N', 'N', 'N', 'F', 'F', 'N', 'N')  é igual a  0.00000\n",
      "Probabilidade de  ('N', 'N', 'N', 'F', 'N', 'F', 'F')  é igual a  0.00001\n",
      "Probabilidade de  ('N', 'N', 'N', 'F', 'N', 'F', 'N')  é igual a  0.00000\n",
      "Probabilidade de  ('N', 'N', 'N', 'F', 'N', 'N', 'F')  é igual a  0.00000\n",
      "Probabilidade de  ('N', 'N', 'N', 'F', 'N', 'N', 'N')  é igual a  0.00000\n",
      "Probabilidade de  ('N', 'N', 'N', 'N', 'F', 'F', 'F')  é igual a  0.00001\n",
      "Probabilidade de  ('N', 'N', 'N', 'N', 'F', 'F', 'N')  é igual a  0.00000\n",
      "Probabilidade de  ('N', 'N', 'N', 'N', 'F', 'N', 'F')  é igual a  0.00000\n",
      "Probabilidade de  ('N', 'N', 'N', 'N', 'F', 'N', 'N')  é igual a  0.00000\n",
      "Probabilidade de  ('N', 'N', 'N', 'N', 'N', 'F', 'F')  é igual a  0.00000\n",
      "Probabilidade de  ('N', 'N', 'N', 'N', 'N', 'F', 'N')  é igual a  0.00000\n",
      "Probabilidade de  ('N', 'N', 'N', 'N', 'N', 'N', 'F')  é igual a  0.00000\n",
      "Probabilidade de  ('N', 'N', 'N', 'N', 'N', 'N', 'N')  é igual a  0.00000\n"
     ]
    }
   ],
   "source": [
    "prob_linhas = []\n",
    "\n",
    "for res in espaço_amostral:\n",
    "    p = 1.0\n",
    "    for e in res:\n",
    "        p*=prob[e]\n",
    "    prob_linhas.append(p)\n",
    "    print(\"Probabilidade de \",res,\" é igual a \",\"%3.5f\"%p)"
   ]
  },
  {
   "cell_type": "code",
   "execution_count": 14,
   "metadata": {
    "collapsed": false
   },
   "outputs": [
    {
     "data": {
      "text/plain": [
       "'1.00000'"
      ]
     },
     "execution_count": 14,
     "metadata": {},
     "output_type": "execute_result"
    }
   ],
   "source": [
    "\"%3.5f\"%sum(prob_linhas)"
   ]
  },
  {
   "cell_type": "code",
   "execution_count": 15,
   "metadata": {
    "collapsed": false
   },
   "outputs": [
    {
     "name": "stdout",
     "output_type": "stream",
     "text": [
      "Distribuição de probabilidades da variável aleatória (Y) - número de falhas\n",
      "\n",
      "Para Y = 0  Probabilidade 0.6983372961 \n",
      "Para Y = 1  Probabilidade 0.2572821617 \n",
      "Para Y = 2  Probabilidade 0.0406234992 \n",
      "Para Y = 3  Probabilidade 0.0035634648 \n",
      "Para Y = 4  Probabilidade 0.0001875508 \n",
      "Para Y = 5  Probabilidade 0.0000059227 \n",
      "Para Y = 6  Probabilidade 0.0000001039 \n",
      "Para Y = 7  Probabilidade 0.0000000008 \n"
     ]
    }
   ],
   "source": [
    "valores_Y = {}\n",
    "for i in range(len(espaço_amostral)):\n",
    "    y = espaço_amostral[i].count(\"N\")\n",
    "    if y in valores_Y:\n",
    "        valores_Y[y] += prob_linhas[i]\n",
    "    else:\n",
    "        valores_Y[y] = prob_linhas[i]\n",
    "\n",
    "print(\"Distribuição de probabilidades da variável aleatória (Y) - número de falhas\")\n",
    "print('')\n",
    "for y in valores_Y:\n",
    "    print(\"Para Y =\", y, \" Probabilidade\", \"%6.10f \"%valores_Y[y])"
   ]
  },
  {
   "cell_type": "code",
   "execution_count": 16,
   "metadata": {
    "collapsed": false
   },
   "outputs": [
    {
     "name": "stdout",
     "output_type": "stream",
     "text": [
      "A media é de   0.35\n"
     ]
    }
   ],
   "source": [
    "media = 0\n",
    "for i in valores_Y:\n",
    "    media += i*valores_Y[i]\n",
    "print('A media é de', \"%6.2f\"%media)"
   ]
  },
  {
   "cell_type": "code",
   "execution_count": 17,
   "metadata": {
    "collapsed": false
   },
   "outputs": [
    {
     "name": "stdout",
     "output_type": "stream",
     "text": [
      "O desvio padrão é de 0.57663\n"
     ]
    }
   ],
   "source": [
    "variancia = 0\n",
    "for i in valores_Y:\n",
    "    variancia += ((i - media)**2)*valores_Y[i]\n",
    "desvio_padrao = math.sqrt(variancia)\n",
    "print('O desvio padrão é de', \"%6.5f\"%desvio_padrao)"
   ]
  },
  {
   "cell_type": "code",
   "execution_count": 18,
   "metadata": {
    "collapsed": false
   },
   "outputs": [
    {
     "data": {
      "text/plain": [
       "(array(0.35000000000000003), array(0.3325))"
      ]
     },
     "execution_count": 18,
     "metadata": {},
     "output_type": "execute_result"
    }
   ],
   "source": [
    " stats.binom.stats(7, 0.05, moments='mv')"
   ]
  },
  {
   "cell_type": "markdown",
   "metadata": {
    "collapsed": true
   },
   "source": [
    "___\n",
    "## <font color='blue'>Exercício 2</font> \n",
    "### <font color='red'>**Check para dia 21/03 INDIVIDUAL **</font>\n",
    "\n",
    "Esse exercício irá explorar uma modelagem de dados reais.\n",
    "\n",
    "> **Confira alguns itens obrigatórios verificados durante a vistoria do Detran**\n",
    "\n",
    "> *Todos os veículos, novos ou velhos, precisam passar por uma vistoria todos os anos. (...) O motorista precisa estar atento a alguns itens obrigatórios. Tudo deve funcionar perfeitamente, apresentar bom estado de conservação e estar dentro do prazo de validade.*\n",
    "\n",
    "> <sup>Fonte: http://extra.globo.com/noticias/brasil/transito-seguro/confira-alguns-itens-obrigatorios-verificados-durante-vistoria-do-detran-10190355.html</sup>\n",
    "\n",
    "Essa matéria lista 14 itens que são inspecionados pelo Detran, dentre os quais têm-se: extintor de incêndio deve estar dentro do prazo de validade; pneus devem estar em bom estado de conservação; buzina deve funcionar perfeitamente; e cintos de segurança para todos os ocupantes do carro. Se, no final das contas, todos os 14 itens estiverem funcionando perfeitamente, o motorista irá feliz para casa assegurado de que seu carro está sem problemas com a vistoria.\n",
    "\n",
    "1. A base de dados `Carros.txt` apresenta, para cada um dos três mil carros de passeio vistoriados, duas informações: tipo de carro (1: Popular e 2: Não Popular) e quantidade de itens vistoriados em não conformidade (que pode variar de 0 a 14). \n",
    "    1. Considerando todos os carros, analise a quantidade de itens vistoriados em não conformidade. Pela tabela de frequências relativas, calcule a média e variância dessa quantidade. Interprete-os.\n",
    "    2. Assuma que a variável *Quantidade de itens em não conformidade* possa ser ajustada pelo modelo Binomial com parâmetros $n=14$ e $p=0,10$. Interprete esses parâmetros para o problema em questão e, ainda, discuta se as propriedades da distribuição Binomial estão satisfeitas para o problema aqui me questão.\n",
    "    \n",
    "    **Independente da sua resposta anterior, considere que a distribuição binomial seja adequada para modelar a variável de interesse nos próximos itens!**\n",
    "    3. Utilizando o método `stats.binom.pmf`, obtenha a probabilidade de cada uma das quantidades de itens em não conformidade quando $n=14$ e $p=0,10$. Calcule o valor esperado e a variância da quantidade de itens em não conformidade utilizando o método `stats.binom.stats` e via resultado da Tabela 4.4 do Magalhães e Lima (pág. 125).\n",
    "    4. Compare as probabilidades teóricas com as frequências relativas observadas nos dados. Para isso, tem-se, por exemplo, as duas opções abaixo para comparar se os resultados empíricos se encaixam com o modelo teórico proposto. \n",
    "        - A primeira opção gráfica contrasta a frequência relativa e a probabilidade teórica para uma determinada quantidade de itens em não conformidade! Vide Figura 3.4 do livro Magalhães e Lima (pág. 87). Ou seja, essa opção contrasta a frequência relativa em um valor de $y$ e a probabilidade pontual $P(Y=y)$.\n",
    "        - A segunda contrasta a frequência relativa acumulada com a probabilidade acumulada até determinada quantidade de itens em não conformidade. Ou seja, compara a frequência relativa acumulada até $y$ com a probabilidade acumulada $P(Y\\leq y)$.\n",
    "    Construa os gráficos de acordo com as duas opções e refine sua conclusão quanto ao uso do modelo teórico para ajustar a variável em questão!\n",
    "    5. Na prática, qual a necessidade de um modelo probabilístico já que se têm os dados observados?\n",
    "    6. Considerando apenas os carros populares, o modelo Binomial com parâmetros $n=14$ e $p=0,10$ é adequado para ajustar a variável Quantidade de itens em não conformidade? Se sim, justifique; caso não, sugira novos valores para os parâmetros da distribuição ajuste aos dados."
   ]
  },
  {
   "cell_type": "code",
   "execution_count": 19,
   "metadata": {
    "collapsed": false
   },
   "outputs": [
    {
     "name": "stdout",
     "output_type": "stream",
     "text": [
      "Esperamos trabalhar no diretório\n",
      "C:\\Users\\Felipe Giorgi\\Desktop\\3° Semestre\\DP - Ciência dos Dados\\CD1S17\\APS\\APS3\n"
     ]
    }
   ],
   "source": [
    "import os\n",
    "print('Esperamos trabalhar no diretório')\n",
    "print(os.getcwd())\n",
    "carros = pd.read_table('Carros.txt', sep=' ')"
   ]
  },
  {
   "cell_type": "code",
   "execution_count": 41,
   "metadata": {
    "collapsed": false
   },
   "outputs": [
    {
     "data": {
      "text/html": [
       "<div>\n",
       "<table border=\"1\" class=\"dataframe\">\n",
       "  <thead>\n",
       "    <tr style=\"text-align: right;\">\n",
       "      <th></th>\n",
       "      <th>Tipo</th>\n",
       "      <th>Quantidade</th>\n",
       "    </tr>\n",
       "  </thead>\n",
       "  <tbody>\n",
       "    <tr>\n",
       "      <th>1</th>\n",
       "      <td>1</td>\n",
       "      <td>0</td>\n",
       "    </tr>\n",
       "    <tr>\n",
       "      <th>2</th>\n",
       "      <td>1</td>\n",
       "      <td>2</td>\n",
       "    </tr>\n",
       "    <tr>\n",
       "      <th>3</th>\n",
       "      <td>1</td>\n",
       "      <td>2</td>\n",
       "    </tr>\n",
       "    <tr>\n",
       "      <th>4</th>\n",
       "      <td>1</td>\n",
       "      <td>3</td>\n",
       "    </tr>\n",
       "    <tr>\n",
       "      <th>5</th>\n",
       "      <td>1</td>\n",
       "      <td>1</td>\n",
       "    </tr>\n",
       "  </tbody>\n",
       "</table>\n",
       "</div>"
      ],
      "text/plain": [
       "   Tipo  Quantidade\n",
       "1     1           0\n",
       "2     1           2\n",
       "3     1           2\n",
       "4     1           3\n",
       "5     1           1"
      ]
     },
     "execution_count": 41,
     "metadata": {},
     "output_type": "execute_result"
    }
   ],
   "source": [
    "carros.head()"
   ]
  },
  {
   "cell_type": "code",
   "execution_count": 28,
   "metadata": {
    "collapsed": false
   },
   "outputs": [
    {
     "data": {
      "text/plain": [
       "0    28.800000\n",
       "1    31.666667\n",
       "2    22.133333\n",
       "3    10.833333\n",
       "4     4.633333\n",
       "5     1.566667\n",
       "6     0.266667\n",
       "7     0.066667\n",
       "8     0.033333\n",
       "Name: Quantidade, dtype: float64"
      ]
     },
     "execution_count": 28,
     "metadata": {},
     "output_type": "execute_result"
    }
   ],
   "source": [
    "D_Q = carros.Quantidade.value_counts(True).reindex([0,1,2,3,4,5,6,7,8])*100\n",
    "D_Q"
   ]
  },
  {
   "cell_type": "code",
   "execution_count": 30,
   "metadata": {
    "collapsed": false
   },
   "outputs": [
    {
     "data": {
      "text/plain": [
       "1.3713333333333333"
      ]
     },
     "execution_count": 30,
     "metadata": {},
     "output_type": "execute_result"
    }
   ],
   "source": [
    "carros.Quantidade.mean()"
   ]
  },
  {
   "cell_type": "code",
   "execution_count": 31,
   "metadata": {
    "collapsed": false
   },
   "outputs": [
    {
     "data": {
      "text/plain": [
       "1.5799715460709343"
      ]
     },
     "execution_count": 31,
     "metadata": {},
     "output_type": "execute_result"
    }
   ],
   "source": [
    "carros.Quantidade.var()"
   ]
  },
  {
   "cell_type": "markdown",
   "metadata": {},
   "source": [
    "O mais comum é existir apenas um item irregular, já que sua frequencia corresponde a 31%. A media de 1,37 nos diz que o número de irregularidades por carro tambem não é muito alto."
   ]
  },
  {
   "cell_type": "code",
   "execution_count": 32,
   "metadata": {
    "collapsed": false
   },
   "outputs": [
    {
     "name": "stdout",
     "output_type": "stream",
     "text": [
      "Para Y = 0 a probabilidade = 0.228767925 \n",
      "Para Y = 1 a probabilidade = 0.355861216 \n",
      "Para Y = 2 a probabilidade = 0.257010878 \n",
      "Para Y = 3 a probabilidade = 0.114227057 \n",
      "Para Y = 4 a probabilidade = 0.034902712 \n",
      "Para Y = 5 a probabilidade = 0.007756158 \n",
      "Para Y = 6 a probabilidade = 0.001292693 \n",
      "Para Y = 7 a probabilidade = 0.000164151 \n",
      "Para Y = 8 a probabilidade = 0.000015959 \n",
      "Para Y = 9 a probabilidade = 0.000001182 \n",
      "Para Y = 10 a probabilidade = 0.000000066 \n",
      "Para Y = 11 a probabilidade = 0.000000003 \n",
      "Para Y = 12 a probabilidade = 0.000000000 \n",
      "Para Y = 13 a probabilidade = 0.000000000 \n",
      "Para Y = 14 a probabilidade = 0.000000000 \n"
     ]
    }
   ],
   "source": [
    "n = 14\n",
    "\n",
    "for i in range(n+1):\n",
    "    print(\"Para Y =\", i, \"a probabilidade = \" \"%6.9f \"%stats.binom.pmf(i, 14, 0.1))"
   ]
  },
  {
   "cell_type": "code",
   "execution_count": 33,
   "metadata": {
    "collapsed": false
   },
   "outputs": [
    {
     "name": "stdout",
     "output_type": "stream",
     "text": [
      "Pelo método \"stats.binom.stats\":\n",
      "E(X) = 1.4000000000000001\n",
      "Var(X) = 1.2600000000000002\n"
     ]
    }
   ],
   "source": [
    "esp, var = stats.binom.stats(14, 0.1, moments = 'mv')\n",
    "\n",
    "print ('Pelo método \"stats.binom.stats\":')\n",
    "print ('E(X) =', esp)\n",
    "print ('Var(X) =', var)"
   ]
  },
  {
   "cell_type": "code",
   "execution_count": 34,
   "metadata": {
    "collapsed": false
   },
   "outputs": [
    {
     "name": "stdout",
     "output_type": "stream",
     "text": [
      "Pelo método da tabela 4.4 do livro:\n",
      "E(X) = 1.4000000000000001\n",
      "Var(X) = 1.2600000000000002\n"
     ]
    }
   ],
   "source": [
    "print ('Pelo método da tabela 4.4 do livro:')\n",
    "print ('E(X) =', 14*0.1)\n",
    "print ('Var(X) =', 14*0.1*(1-0.1))"
   ]
  },
  {
   "cell_type": "code",
   "execution_count": 35,
   "metadata": {
    "collapsed": false
   },
   "outputs": [
    {
     "data": {
      "image/png": "[encoded data removed]",
      "text/plain": [
       "<matplotlib.figure.Figure at 0x123a93fb3c8>"
      ]
     },
     "metadata": {},
     "output_type": "display_data"
    }
   ],
   "source": [
    "prob = []\n",
    "for i in range (9):\n",
    "    prob.append(stats.binom.pmf(i,14,0.1)*100)\n",
    "\n",
    "plt.plot(prob, 'or')\n",
    "plt.plot(D_Q, 'ob')\n",
    "plt.ylim(-1,40)\n",
    "plt.grid()"
   ]
  },
  {
   "cell_type": "markdown",
   "metadata": {},
   "source": [
    "A necessidade de um modelo problistico se da quando a analise de uma amostra chega a ser inviavel, pelo seu tamanho."
   ]
  },
  {
   "cell_type": "code",
   "execution_count": 44,
   "metadata": {
    "collapsed": false
   },
   "outputs": [
    {
     "name": "stdout",
     "output_type": "stream",
     "text": [
      "E(X) 1.8344444444444445\n",
      "Var(X) 1.6668507195355984\n",
      "\n",
      "E(X) binomial: 1.4000000000000001\n",
      "Var(X) binomial: 1.2600000000000002\n",
      "\n",
      "E(X) binomial ajustado: 1.82\n",
      "Var(X) binomial ajustado: 1.5834000000000001\n"
     ]
    }
   ],
   "source": [
    "popular = carros[(carros.Tipo == 1)]\n",
    "D_Qpop = popular.Quantidade.value_counts(True).reindex([0,1,2,4,5,6,7,8])*100\n",
    "print (\"E(X)\",popular.Quantidade.mean())\n",
    "print (\"Var(X)\",popular.Quantidade.var())\n",
    "print()\n",
    "prob = []\n",
    "for i in range (9):\n",
    "    prob.append(stats.binom.pmf(i,n,p))\n",
    "    \n",
    "esp, var = stats.binom.stats (14,0.1, moments = 'mv')\n",
    "\n",
    "print ('E(X) binomial:', esp )\n",
    "print ('Var(X) binomial:', var )\n",
    "print()\n",
    "\n",
    "esp, var = stats.binom.stats (14,0.13, moments = 'mv')\n",
    "print ('E(X) binomial ajustado:', esp )\n",
    "print ('Var(X) binomial ajustado:', var )"
   ]
  },
  {
   "cell_type": "markdown",
   "metadata": {
    "collapsed": true
   },
   "source": [
    "___\n",
    "## <font color='blue'>Exercício 3</font>\n",
    "\n",
    "### <font color='red'>**Publicar no github até dia 21/03 INDIVIDUAL **</font>\n",
    "\n",
    "Esse exercício irá explorar modelos de distribuição de Poisson.\n",
    "\n",
    "Uma fábrica produz determinado veículo. O gerente de vendas fechou um negócio que implica na produção de pelo menos 110 unidades nos próximos dois meses. Para isso, será construída uma nova linha de montagem com capacidade para produzir em média 50 veículos por mês (considere meses de 30 dias). A linha funcionará ininterruptamente. Além disso, apenas um veículo é produzido por vez. Considere que um modelo Poisson seja adequado para a quantidade de veículos produzidos.\n",
    "   1. Qual a probabilidade  da produção ser igual a 100 veículos nos próximos dois meses?\n",
    "   2. Qual a probabilidade  da produção ser de pelo menos 100 veículos nos próximos dois meses?\n",
    "   3. Qual a probabilidade da produção ser entre 100 e 110 veículos nos próximos dois meses?\n",
    "   4. Se forem produzidos de pelo menos 100 veículos no próximo mês, qual a probabilidade do gerente cumprir a meta negociada?\n",
    "   5. Caso o prazo seja cumprido, o lucro será da ordem de $250$ mil, caso não seja, o lucro cai para $200$ mil. Qual é o lucro esperado e seu desvio-padrão?\n",
    "\n",
    "**Observação:** Explore os comandos de `stats.poisson`. <sup>[http://docs.scipy.org/doc/scipy/reference/generated/scipy.stats.poisson.html]\n"
   ]
  },
  {
   "cell_type": "markdown",
   "metadata": {},
   "source": [
    "# 1."
   ]
  },
  {
   "cell_type": "code",
   "execution_count": 46,
   "metadata": {
    "collapsed": false
   },
   "outputs": [
    {
     "name": "stdout",
     "output_type": "stream",
     "text": [
      "A probabilidade é de 3.98609968091\n"
     ]
    }
   ],
   "source": [
    "print('A probabilidade é de',stats.poisson.pmf(100,100)*100)"
   ]
  },
  {
   "cell_type": "markdown",
   "metadata": {},
   "source": [
    "# 2."
   ]
  },
  {
   "cell_type": "code",
   "execution_count": 51,
   "metadata": {
    "collapsed": false
   },
   "outputs": [
    {
     "name": "stdout",
     "output_type": "stream",
     "text": [
      "A probabilidade é de 52.656219853\n"
     ]
    }
   ],
   "source": [
    "print('A probabilidade é de', stats.poisson.cdf(100, 100)*100)"
   ]
  },
  {
   "cell_type": "markdown",
   "metadata": {},
   "source": [
    "# 3."
   ]
  },
  {
   "cell_type": "code",
   "execution_count": 50,
   "metadata": {
    "collapsed": false
   },
   "outputs": [
    {
     "name": "stdout",
     "output_type": "stream",
     "text": [
      "A probabilidade é de 36.6161449837\n"
     ]
    }
   ],
   "source": [
    "print('A probabilidade é de', stats.poisson.cdf(110, 100)*100 - stats.poisson.cdf(99, 100)*100)"
   ]
  },
  {
   "cell_type": "markdown",
   "metadata": {},
   "source": [
    "# 4."
   ]
  },
  {
   "cell_type": "code",
   "execution_count": 52,
   "metadata": {
    "collapsed": false
   },
   "outputs": [
    {
     "name": "stdout",
     "output_type": "stream",
     "text": [
      "A probabilidade é de 85.2862651558\n"
     ]
    }
   ],
   "source": [
    "print('A probabilidade é de', stats.poisson.cdf(110, 100)*100)"
   ]
  },
  {
   "cell_type": "code",
   "execution_count": null,
   "metadata": {
    "collapsed": true
   },
   "outputs": [],
   "source": []
  }
 ],
 "metadata": {
  "anaconda-cloud": {},
  "kernelspec": {
   "display_name": "Python 3",
   "language": "python",
   "name": "python3"
  },
  "language_info": {
   "codemirror_mode": {
    "name": "ipython",
    "version": 3
   },
   "file_extension": ".py",
   "mimetype": "text/x-python",
   "name": "python",
   "nbconvert_exporter": "python",
   "pygments_lexer": "ipython3",
   "version": "3.5.2"
  }
 },
 "nbformat": 4,
 "nbformat_minor": 0
}
