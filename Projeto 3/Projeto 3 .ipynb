{
 "cells": [
  {
   "cell_type": "markdown",
   "metadata": {},
   "source": [
    "___\n",
    "# PROJETO 3"
   ]
  },
  {
   "cell_type": "markdown",
   "metadata": {},
   "source": [
    "## GRUPO:\n",
    "### Felipe Giorgi Vaz Guimarães\n",
    "### Felipe Viacava\n",
    "___"
   ]
  },
  {
   "cell_type": "code",
   "execution_count": 186,
   "metadata": {
    "collapsed": false
   },
   "outputs": [
    {
     "name": "stdout",
     "output_type": "stream",
     "text": [
      "Esperamos trabalhar no diretório\n",
      "C:\\Users\\Felipe Giorgi\\Desktop\\3° Semestre\\DP - Ciência dos Dados\\CD1S17\\Projeto 3\n"
     ]
    }
   ],
   "source": [
    "%matplotlib inline\n",
    "import pandas as pd\n",
    "import matplotlib.pyplot as plt\n",
    "import numpy as np\n",
    "import os\n",
    "from scipy import stats\n",
    "\n",
    "print('Esperamos trabalhar no diretório')\n",
    "print(os.getcwd())"
   ]
  },
  {
   "cell_type": "markdown",
   "metadata": {},
   "source": [
    "___\n",
    "## Estudo da Distribuição da Média Amostral  $\\bar{X}$  via SIMULAÇÃO"
   ]
  },
  {
   "cell_type": "markdown",
   "metadata": {
    "collapsed": true
   },
   "source": [
    "Será utilizado um modelo Poisson onde E(X)=Var(X)=mu=3"
   ]
  },
  {
   "cell_type": "markdown",
   "metadata": {},
   "source": [
    "# item 1"
   ]
  },
  {
   "cell_type": "code",
   "execution_count": 187,
   "metadata": {
    "collapsed": true
   },
   "outputs": [],
   "source": [
    "dd = stats.poisson.rvs(mu = 2, loc = 0, size = 10000000)"
   ]
  },
  {
   "cell_type": "code",
   "execution_count": 188,
   "metadata": {
    "collapsed": false
   },
   "outputs": [
    {
     "data": {
      "image/png": "[encoded data removed]",
      "text/plain": [
       "<matplotlib.figure.Figure at 0x1d6b12c68d0>"
      ]
     },
     "metadata": {},
     "output_type": "display_data"
    }
   ],
   "source": [
    "plt.hist(dd, normed = True)\n",
    "plt.show()"
   ]
  },
  {
   "cell_type": "code",
   "execution_count": 189,
   "metadata": {
    "collapsed": false
   },
   "outputs": [
    {
     "name": "stdout",
     "output_type": "stream",
     "text": [
      "A média é: 2.0001873\n",
      "A variancia é: 2.00141366492\n"
     ]
    }
   ],
   "source": [
    "media = dd.mean()\n",
    "var = dd.var()\n",
    "\n",
    "print('A média é:',media)\n",
    "print('A variancia é:',var)"
   ]
  },
  {
   "cell_type": "markdown",
   "metadata": {},
   "source": [
    "# item 2"
   ]
  },
  {
   "cell_type": "markdown",
   "metadata": {
    "collapsed": true
   },
   "source": [
    "## n = 2"
   ]
  },
  {
   "cell_type": "code",
   "execution_count": 190,
   "metadata": {
    "collapsed": false
   },
   "outputs": [],
   "source": [
    "def Media_Amostral(n,dados):\n",
    "    soma=0\n",
    "    for i in range(n):\n",
    "        soma+=np.random.choice(dados)\n",
    "    media=soma/n\n",
    "    return media\n",
    "\n",
    "def Calcula_Media(lista):\n",
    "    soma=0\n",
    "    for i in lista:\n",
    "        soma+=i\n",
    "    media=soma/len(lista)\n",
    "    return media\n",
    "\n",
    "def Calcula_Var(lista):\n",
    "    media=Calcula_Media(lista)\n",
    "    soma=0\n",
    "    for i in lista:\n",
    "        soma+=(i-media)**2\n",
    "    var=soma/len(lista)\n",
    "    return var"
   ]
  },
  {
   "cell_type": "code",
   "execution_count": 191,
   "metadata": {
    "collapsed": false
   },
   "outputs": [
    {
     "name": "stdout",
     "output_type": "stream",
     "text": [
      "A media amostral é 1.5\n"
     ]
    }
   ],
   "source": [
    "n = 2\n",
    "print('A media amostral é', Media_Amostral(n,dd))"
   ]
  },
  {
   "cell_type": "code",
   "execution_count": 192,
   "metadata": {
    "collapsed": false
   },
   "outputs": [
    {
     "data": {
      "image/png": "[encoded data removed]",
      "text/plain": [
       "<matplotlib.figure.Figure at 0x1d6b163f470>"
      ]
     },
     "metadata": {},
     "output_type": "display_data"
    },
    {
     "name": "stdout",
     "output_type": "stream",
     "text": [
      "A Media é:  2.0003 \n",
      "A variancia é: 1.00914991\n"
     ]
    }
   ],
   "source": [
    "MAmostrais=[]\n",
    "for i in range(10000):\n",
    "    MAmostrais.append(Media_Amostral(n, dd))\n",
    "\n",
    "plt.hist(MAmostrais,normed=True)\n",
    "plt.show()\n",
    "print('A Media é: ',Calcula_Media(MAmostrais),'\\nA variancia é:',Calcula_Var(MAmostrais))"
   ]
  },
  {
   "cell_type": "markdown",
   "metadata": {},
   "source": [
    "# item 3"
   ]
  },
  {
   "cell_type": "markdown",
   "metadata": {},
   "source": [
    "## n =4"
   ]
  },
  {
   "cell_type": "code",
   "execution_count": 193,
   "metadata": {
    "collapsed": false
   },
   "outputs": [
    {
     "name": "stdout",
     "output_type": "stream",
     "text": [
      "A media amostral é 2.25\n"
     ]
    }
   ],
   "source": [
    "n = 4\n",
    "print('A media amostral é', Media_Amostral(n,dd))"
   ]
  },
  {
   "cell_type": "code",
   "execution_count": 194,
   "metadata": {
    "collapsed": false
   },
   "outputs": [
    {
     "data": {
      "image/png": "[encoded data removed]",
      "text/plain": [
       "<matplotlib.figure.Figure at 0x1d6b0f4d9e8>"
      ]
     },
     "metadata": {},
     "output_type": "display_data"
    },
    {
     "name": "stdout",
     "output_type": "stream",
     "text": [
      "A Media é:  2.007525 \n",
      "A variancia é: 0.500662124375\n"
     ]
    }
   ],
   "source": [
    "MAmostrais=[]\n",
    "for i in range(10000):\n",
    "    MAmostrais.append(Media_Amostral(n, dd))\n",
    "\n",
    "plt.hist(MAmostrais,normed=True)\n",
    "plt.show()\n",
    "print('A Media é: ',Calcula_Media(MAmostrais),'\\nA variancia é:',Calcula_Var(MAmostrais))"
   ]
  },
  {
   "cell_type": "markdown",
   "metadata": {},
   "source": [
    "## n = 20"
   ]
  },
  {
   "cell_type": "code",
   "execution_count": 195,
   "metadata": {
    "collapsed": false
   },
   "outputs": [
    {
     "name": "stdout",
     "output_type": "stream",
     "text": [
      "A media amostral é 1.65\n"
     ]
    }
   ],
   "source": [
    "n = 20\n",
    "print('A media amostral é', Media_Amostral(n,dd))"
   ]
  },
  {
   "cell_type": "code",
   "execution_count": 196,
   "metadata": {
    "collapsed": false
   },
   "outputs": [
    {
     "data": {
      "image/png": "[encoded data removed]",
      "text/plain": [
       "<matplotlib.figure.Figure at 0x1d6b12d6208>"
      ]
     },
     "metadata": {},
     "output_type": "display_data"
    },
    {
     "name": "stdout",
     "output_type": "stream",
     "text": [
      "A Media é:  1.996765 \n",
      "A variancia é: 0.099601284775\n"
     ]
    }
   ],
   "source": [
    "MAmostrais=[]\n",
    "for i in range(10000):\n",
    "    MAmostrais.append(Media_Amostral(n, dd))\n",
    "\n",
    "plt.hist(MAmostrais,normed=True)\n",
    "plt.show()\n",
    "print('A Media é: ',Calcula_Media(MAmostrais),'\\nA variancia é:',Calcula_Var(MAmostrais))\n"
   ]
  },
  {
   "cell_type": "markdown",
   "metadata": {},
   "source": [
    "## n = 50"
   ]
  },
  {
   "cell_type": "code",
   "execution_count": 197,
   "metadata": {
    "collapsed": false
   },
   "outputs": [
    {
     "name": "stdout",
     "output_type": "stream",
     "text": [
      "A media amostral é 2.28\n"
     ]
    }
   ],
   "source": [
    "n = 50\n",
    "print('A media amostral é', Media_Amostral(n,dd))"
   ]
  },
  {
   "cell_type": "code",
   "execution_count": 198,
   "metadata": {
    "collapsed": false
   },
   "outputs": [
    {
     "data": {
      "image/png": "[encoded data removed]",
      "text/plain": [
       "<matplotlib.figure.Figure at 0x1d6ad0c6cf8>"
      ]
     },
     "metadata": {},
     "output_type": "display_data"
    },
    {
     "name": "stdout",
     "output_type": "stream",
     "text": [
      "A Media é:  2.001 \n",
      "A variancia é: 0.04054828\n"
     ]
    }
   ],
   "source": [
    "MAmostrais=[]\n",
    "for i in range(10000):\n",
    "    MAmostrais.append(Media_Amostral(n, dd))\n",
    "\n",
    "plt.hist(MAmostrais,normed=True)\n",
    "plt.show()\n",
    "print('A Media é: ',Calcula_Media(MAmostrais),'\\nA variancia é:',Calcula_Var(MAmostrais))"
   ]
  },
  {
   "cell_type": "markdown",
   "metadata": {},
   "source": [
    "#### O TLC nos mostra que quanto maior for p n, maior é a semelhança do histograma das medias amostrais com uma distribuição normal. Isto pode ser visto comparando o histograma onde temos n = 2 e o histograma onde temos n = 50"
   ]
  },
  {
   "cell_type": "markdown",
   "metadata": {},
   "source": [
    "# item 4"
   ]
  },
  {
   "cell_type": "code",
   "execution_count": 199,
   "metadata": {
    "collapsed": true
   },
   "outputs": [],
   "source": [
    "X3 = []\n",
    "X15 = []\n",
    "\n",
    "n = 50\n",
    "for i in range(10000):\n",
    "    lista = []\n",
    "\n",
    "    for j in range(n):\n",
    "        lista.append(np.random.choice(dd))\n",
    "        \n",
    "    X3.append(lista[2])\n",
    "    X15.append(lista[14])      \n"
   ]
  },
  {
   "cell_type": "code",
   "execution_count": 200,
   "metadata": {
    "collapsed": false
   },
   "outputs": [
    {
     "data": {
      "image/png": "[encoded data removed]",
      "text/plain": [
       "<matplotlib.figure.Figure at 0x1d6b109d240>"
      ]
     },
     "metadata": {},
     "output_type": "display_data"
    }
   ],
   "source": [
    "plt.hist(X3, normed = 1)\n",
    "plt.show()"
   ]
  },
  {
   "cell_type": "code",
   "execution_count": 201,
   "metadata": {
    "collapsed": false
   },
   "outputs": [
    {
     "data": {
      "image/png": "[encoded data removed]",
      "text/plain": [
       "<matplotlib.figure.Figure at 0x1d6b0f3f908>"
      ]
     },
     "metadata": {},
     "output_type": "display_data"
    }
   ],
   "source": [
    "plt.hist(X15, normed = 1)\n",
    "plt.show()"
   ]
  },
  {
   "cell_type": "code",
   "execution_count": 226,
   "metadata": {
    "collapsed": false
   },
   "outputs": [
    {
     "name": "stdout",
     "output_type": "stream",
     "text": [
      "Correlação(X3,X15): -0.000631096973581\n"
     ]
    }
   ],
   "source": [
    "print(\"Correlação(X3,X15):\",np.corrcoef(X3,X15)[0][1])"
   ]
  },
  {
   "cell_type": "markdown",
   "metadata": {
    "collapsed": true
   },
   "source": [
    "___\n",
    "## Estudo da Distribuição de  $\\frac{\\bar{X}-\\mu}{\\sigma\\hspace{1mm}/\\sqrt{n}}$  e de $\\frac{\\bar{X}-\\mu}{S\\hspace{1mm}/\\sqrt{n}}$ via SIMULAÇÃO"
   ]
  },
  {
   "cell_type": "markdown",
   "metadata": {},
   "source": [
    "Será utilizado um reta normal onde mu=8 e scale = 2"
   ]
  },
  {
   "cell_type": "markdown",
   "metadata": {},
   "source": [
    "# item 1"
   ]
  },
  {
   "cell_type": "code",
   "execution_count": 202,
   "metadata": {
    "collapsed": true
   },
   "outputs": [],
   "source": [
    "dd1 = stats.norm.rvs(loc = 8, scale = 2, size = 1000000)"
   ]
  },
  {
   "cell_type": "code",
   "execution_count": 203,
   "metadata": {
    "collapsed": false
   },
   "outputs": [
    {
     "data": {
      "image/png": "[encoded data removed]",
      "text/plain": [
       "<matplotlib.figure.Figure at 0x1d6ad043278>"
      ]
     },
     "metadata": {},
     "output_type": "display_data"
    }
   ],
   "source": [
    "plt.hist(dd1, normed = True)\n",
    "plt.show()"
   ]
  },
  {
   "cell_type": "code",
   "execution_count": 204,
   "metadata": {
    "collapsed": false
   },
   "outputs": [
    {
     "name": "stdout",
     "output_type": "stream",
     "text": [
      "A média é: 8.00044325144\n",
      "A variancia é: 4.00411202947\n"
     ]
    }
   ],
   "source": [
    "media = dd1.mean()\n",
    "var = dd1.var()\n",
    "\n",
    "print('A média é:',media)\n",
    "print('A variancia é:',var)"
   ]
  },
  {
   "cell_type": "markdown",
   "metadata": {
    "collapsed": true
   },
   "source": [
    "# item 2"
   ]
  },
  {
   "cell_type": "markdown",
   "metadata": {},
   "source": [
    "## n = 4"
   ]
  },
  {
   "cell_type": "code",
   "execution_count": 205,
   "metadata": {
    "collapsed": true
   },
   "outputs": [],
   "source": [
    "def Calcula_DP(lista):\n",
    "    media=Calcula_Media(lista)\n",
    "    soma=0\n",
    "    for i in lista:\n",
    "        soma+=(i-media)**2\n",
    "    var=soma/len(lista)\n",
    "    dp = var**0.5\n",
    "    return dp\n",
    "y = np.linspace(-4, 4, 100)"
   ]
  },
  {
   "cell_type": "code",
   "execution_count": 206,
   "metadata": {
    "collapsed": false
   },
   "outputs": [
    {
     "name": "stdout",
     "output_type": "stream",
     "text": [
      "A media amostral é 8.37940916541 \n",
      "O desvio padrão é: 1.38680742262\n"
     ]
    }
   ],
   "source": [
    "n = 4\n",
    "soma = 0\n",
    "lista = []\n",
    "for i in range(n):\n",
    "    x = np.random.choice(dd1)\n",
    "    soma += x\n",
    "    lista.append(x)\n",
    "med = soma/n\n",
    "dp = Calcula_DP(lista)\n",
    "print('A media amostral é', med, '\\nO desvio padrão é:', dp)"
   ]
  },
  {
   "cell_type": "code",
   "execution_count": 207,
   "metadata": {
    "collapsed": false
   },
   "outputs": [
    {
     "name": "stdout",
     "output_type": "stream",
     "text": [
      "O valor de z é 0.379409165412 \n",
      "O valor de t é: 0.547169216465\n"
     ]
    }
   ],
   "source": [
    "z = (med - 8)/(2/n**0.5)\n",
    "t = (med - 8)/(dp/n**0.5)\n",
    "print('O valor de z é', z, '\\nO valor de t é:',t)"
   ]
  },
  {
   "cell_type": "code",
   "execution_count": 208,
   "metadata": {
    "collapsed": false
   },
   "outputs": [],
   "source": [
    "valores_z = []\n",
    "valores_t = []\n",
    "for i in range(10000):\n",
    "    soma = 0\n",
    "    lista = []\n",
    "    for i in range(n):\n",
    "        x = np.random.choice(dd1)\n",
    "        soma += x\n",
    "        lista.append(x)\n",
    "    med = soma/n\n",
    "    dp = Calcula_DP(lista)\n",
    "    valores_z.append((med - 8)/(2/n**0.5))\n",
    "    valores_t.append((med - 8)/(dp/n**0.5))"
   ]
  },
  {
   "cell_type": "code",
   "execution_count": 209,
   "metadata": {
    "collapsed": false
   },
   "outputs": [
    {
     "data": {
      "image/png": "[encoded data removed]",
      "text/plain": [
       "<matplotlib.figure.Figure at 0x1d6b11f64a8>"
      ]
     },
     "metadata": {},
     "output_type": "display_data"
    }
   ],
   "source": [
    "plt.hist(valores_z, normed = True)\n",
    "plt.plot(y, stats.norm.pdf(y, loc = 0, scale = 1), lw = 3,  color = 'Black')\n",
    "plt.show()"
   ]
  },
  {
   "cell_type": "code",
   "execution_count": 210,
   "metadata": {
    "collapsed": false
   },
   "outputs": [
    {
     "data": {
      "image/png": "[encoded data removed]",
      "text/plain": [
       "<matplotlib.figure.Figure at 0x1d6af7c2940>"
      ]
     },
     "metadata": {},
     "output_type": "display_data"
    }
   ],
   "source": [
    "plt.hist(valores_t, normed = True)\n",
    "plt.plot(y, stats.t.pdf(y,df=3), lw=3, color='black')\n",
    "plt.show()"
   ]
  },
  {
   "cell_type": "markdown",
   "metadata": {},
   "source": [
    "# item 3"
   ]
  },
  {
   "cell_type": "markdown",
   "metadata": {},
   "source": [
    "## n = 20"
   ]
  },
  {
   "cell_type": "code",
   "execution_count": 211,
   "metadata": {
    "collapsed": false
   },
   "outputs": [
    {
     "name": "stdout",
     "output_type": "stream",
     "text": [
      "A media amostral é 8.19843169401 \n",
      "O desvio padrão é: 2.11403442298\n"
     ]
    }
   ],
   "source": [
    "n = 20\n",
    "soma = 0\n",
    "lista = []\n",
    "for i in range(n):\n",
    "    x = np.random.choice(dd1)\n",
    "    soma += x\n",
    "    lista.append(x)\n",
    "med = soma/n\n",
    "dp = Calcula_DP(lista)\n",
    "print('A media amostral é', med, '\\nO desvio padrão é:', dp)"
   ]
  },
  {
   "cell_type": "code",
   "execution_count": 212,
   "metadata": {
    "collapsed": false
   },
   "outputs": [
    {
     "name": "stdout",
     "output_type": "stream",
     "text": [
      "O valor de z é 0.443706756693 \n",
      "O valor de t é: 0.419772499322\n"
     ]
    }
   ],
   "source": [
    "z = (med - 8)/(2/n**0.5)\n",
    "t = (med - 8)/(dp/n**0.5)\n",
    "print('O valor de z é', z, '\\nO valor de t é:',t)"
   ]
  },
  {
   "cell_type": "code",
   "execution_count": 213,
   "metadata": {
    "collapsed": true
   },
   "outputs": [],
   "source": [
    "valores_z = []\n",
    "valores_t = []\n",
    "for i in range(10000):\n",
    "    soma = 0\n",
    "    lista = []\n",
    "    for i in range(n):\n",
    "        x = np.random.choice(dd1)\n",
    "        soma += x\n",
    "        lista.append(x)\n",
    "    med = soma/n\n",
    "    dp = Calcula_DP(lista)\n",
    "    valores_z.append((med - 8)/(2/n**0.5))\n",
    "    valores_t.append((med - 8)/(dp/n**0.5))    "
   ]
  },
  {
   "cell_type": "code",
   "execution_count": 214,
   "metadata": {
    "collapsed": false
   },
   "outputs": [
    {
     "data": {
      "image/png": "[encoded data removed]",
      "text/plain": [
       "<matplotlib.figure.Figure at 0x1d6a9f6a9b0>"
      ]
     },
     "metadata": {},
     "output_type": "display_data"
    }
   ],
   "source": [
    "plt.hist(valores_z, normed = True)\n",
    "plt.plot(y, stats.norm.pdf(y, loc = 0, scale = 1), lw = 3,color = 'Black')\n",
    "plt.show()"
   ]
  },
  {
   "cell_type": "code",
   "execution_count": 215,
   "metadata": {
    "collapsed": false
   },
   "outputs": [
    {
     "data": {
      "image/png": "[encoded data removed]",
      "text/plain": [
       "<matplotlib.figure.Figure at 0x1d6b15926d8>"
      ]
     },
     "metadata": {},
     "output_type": "display_data"
    }
   ],
   "source": [
    "plt.hist(valores_t, normed = True)\n",
    "plt.plot(y, stats.t.pdf(y,df=3), lw=3, color='black')\n",
    "plt.show()"
   ]
  },
  {
   "cell_type": "markdown",
   "metadata": {},
   "source": [
    "## n =50"
   ]
  },
  {
   "cell_type": "code",
   "execution_count": 216,
   "metadata": {
    "collapsed": false
   },
   "outputs": [
    {
     "name": "stdout",
     "output_type": "stream",
     "text": [
      "A media amostral é 7.93545578357 \n",
      "O desvio padrão é: 1.93245256728\n"
     ]
    }
   ],
   "source": [
    "n = 50\n",
    "soma = 0\n",
    "lista = []\n",
    "for i in range(n):\n",
    "    x = np.random.choice(dd1)\n",
    "    soma += x\n",
    "    lista.append(x)\n",
    "med = soma/n\n",
    "dp = Calcula_DP(lista)\n",
    "print('A media amostral é', med, '\\nO desvio padrão é:', dp)"
   ]
  },
  {
   "cell_type": "code",
   "execution_count": 217,
   "metadata": {
    "collapsed": false
   },
   "outputs": [
    {
     "name": "stdout",
     "output_type": "stream",
     "text": [
      "O valor de z é -0.228198265634 \n",
      "O valor de t é: -0.236174765164\n"
     ]
    }
   ],
   "source": [
    "z = (med - 8)/(2/n**0.5)\n",
    "t = (med - 8)/(dp/n**0.5)\n",
    "print('O valor de z é', z, '\\nO valor de t é:',t)"
   ]
  },
  {
   "cell_type": "code",
   "execution_count": 218,
   "metadata": {
    "collapsed": true
   },
   "outputs": [],
   "source": [
    "valores_z = []\n",
    "valores_t = []\n",
    "for i in range(10000):\n",
    "    soma = 0\n",
    "    lista = []\n",
    "    for i in range(n):\n",
    "        x = np.random.choice(dd1)\n",
    "        soma += x\n",
    "        lista.append(x)\n",
    "    med = soma/n\n",
    "    dp = Calcula_DP(lista)\n",
    "    valores_z.append((med - 8)/(2/n**0.5))\n",
    "    valores_t.append((med - 8)/(dp/n**0.5))   "
   ]
  },
  {
   "cell_type": "code",
   "execution_count": 219,
   "metadata": {
    "collapsed": false
   },
   "outputs": [
    {
     "data": {
      "image/png": "[encoded data removed]",
      "text/plain": [
       "<matplotlib.figure.Figure at 0x1d6b1389358>"
      ]
     },
     "metadata": {},
     "output_type": "display_data"
    }
   ],
   "source": [
    "plt.hist(valores_z, normed = True)\n",
    "plt.plot(y, stats.norm.pdf(y, loc = 0, scale = 1), lw = 3,color = 'Black')\n",
    "plt.show()"
   ]
  },
  {
   "cell_type": "code",
   "execution_count": 220,
   "metadata": {
    "collapsed": false
   },
   "outputs": [
    {
     "data": {
      "image/png": "[encoded data removed]",
      "text/plain": [
       "<matplotlib.figure.Figure at 0x1d6b15128d0>"
      ]
     },
     "metadata": {},
     "output_type": "display_data"
    }
   ],
   "source": [
    "plt.hist(valores_t, normed = True)\n",
    "plt.plot(y, stats.t.pdf(y,df=3), lw=3, color='black')\n",
    "plt.show()"
   ]
  },
  {
   "cell_type": "markdown",
   "metadata": {},
   "source": [
    "## n = 300"
   ]
  },
  {
   "cell_type": "code",
   "execution_count": 221,
   "metadata": {
    "collapsed": false
   },
   "outputs": [
    {
     "name": "stdout",
     "output_type": "stream",
     "text": [
      "A media amostral é 8.15399381375 \n",
      "O desvio padrão é: 1.93333785199\n"
     ]
    }
   ],
   "source": [
    "n = 300\n",
    "soma = 0\n",
    "lista = []\n",
    "for i in range(n):\n",
    "    x = np.random.choice(dd1)\n",
    "    soma += x\n",
    "    lista.append(x)\n",
    "med = soma/n\n",
    "dp = Calcula_DP(lista)\n",
    "print('A media amostral é', med, '\\nO desvio padrão é:', dp)"
   ]
  },
  {
   "cell_type": "code",
   "execution_count": 222,
   "metadata": {
    "collapsed": false
   },
   "outputs": [
    {
     "name": "stdout",
     "output_type": "stream",
     "text": [
      "O valor de z é 1.33362554736 \n",
      "O valor de t é: 1.37960941073\n"
     ]
    }
   ],
   "source": [
    "z = (med - 8)/(2/n**0.5)\n",
    "t = (med - 8)/(dp/n**0.5)\n",
    "print('O valor de z é', z, '\\nO valor de t é:',t)"
   ]
  },
  {
   "cell_type": "code",
   "execution_count": 223,
   "metadata": {
    "collapsed": true
   },
   "outputs": [],
   "source": [
    "valores_z = []\n",
    "valores_t = []\n",
    "for i in range(10000):\n",
    "    soma = 0\n",
    "    lista = []\n",
    "    for i in range(n):\n",
    "        x = np.random.choice(dd1)\n",
    "        soma += x\n",
    "        lista.append(x)\n",
    "    med = soma/n\n",
    "    dp = Calcula_DP(lista)\n",
    "    valores_z.append((med - 8)/(2/n**0.5))\n",
    "    valores_t.append((med - 8)/(dp/n**0.5))   "
   ]
  },
  {
   "cell_type": "code",
   "execution_count": 224,
   "metadata": {
    "collapsed": false
   },
   "outputs": [
    {
     "data": {
      "image/png": "[encoded data removed]",
      "text/plain": [
       "<matplotlib.figure.Figure at 0x1d6b0ff5c50>"
      ]
     },
     "metadata": {},
     "output_type": "display_data"
    }
   ],
   "source": [
    "plt.hist(valores_z, normed = True)\n",
    "plt.plot(y, stats.norm.pdf(y, loc = 0, scale = 1), lw = 3,color = 'Black')\n",
    "plt.show()"
   ]
  },
  {
   "cell_type": "code",
   "execution_count": 225,
   "metadata": {
    "collapsed": false
   },
   "outputs": [
    {
     "data": {
      "image/png": "[encoded data removed]",
      "text/plain": [
       "<matplotlib.figure.Figure at 0x1d6b14b3d68>"
      ]
     },
     "metadata": {},
     "output_type": "display_data"
    }
   ],
   "source": [
    "plt.hist(valores_t, normed = True)\n",
    "plt.plot(y, stats.t.pdf(y,df=3), lw=3, color='black')\n",
    "plt.show()"
   ]
  },
  {
   "cell_type": "markdown",
   "metadata": {
    "collapsed": true
   },
   "source": [
    "#### É possivel perceber que ambos os valores t e z acabam se aproximando de uma distribuição normal, mas apenas o valor de z é parecido com n = 4. Já os valores de t vão ficando parecidos a medida que se aumenta o n."
   ]
  },
  {
   "cell_type": "code",
   "execution_count": null,
   "metadata": {
    "collapsed": true
   },
   "outputs": [],
   "source": []
  }
 ],
 "metadata": {
  "anaconda-cloud": {},
  "kernelspec": {
   "display_name": "Python 3",
   "language": "python",
   "name": "python3"
  },
  "language_info": {
   "codemirror_mode": {
    "name": "ipython",
    "version": 3
   },
   "file_extension": ".py",
   "mimetype": "text/x-python",
   "name": "python",
   "nbconvert_exporter": "python",
   "pygments_lexer": "ipython3",
   "version": "3.5.2"
  }
 },
 "nbformat": 4,
 "nbformat_minor": 0
}
